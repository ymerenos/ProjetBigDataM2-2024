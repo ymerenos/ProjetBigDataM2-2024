{
  "cells": [
    {
      "cell_type": "code",
      "execution_count": 20,
      "metadata": {
        "colab": {
          "base_uri": "https://localhost:8080/"
        },
        "id": "qkzs7T908tNj",
        "outputId": "705f2064-bda9-4ff0-db36-1fddde6ad10e"
      },
      "outputs": [
        {
          "name": "stdout",
          "output_type": "stream",
          "text": [
            "Requirement already satisfied: confluent-kafka in e:\\anaconda3\\envs\\aag-talp\\lib\\site-packages (2.3.0)Note: you may need to restart the kernel to use updated packages.\n",
            "\n",
            "Requirement already satisfied: pyspark in e:\\anaconda3\\envs\\aag-talp\\lib\\site-packages (3.5.0)\n",
            "Requirement already satisfied: py4j==0.10.9.7 in e:\\anaconda3\\envs\\aag-talp\\lib\\site-packages (from pyspark) (0.10.9.7)\n",
            "Note: you may need to restart the kernel to use updated packages.\n",
            "Requirement already satisfied: pymongo in e:\\anaconda3\\envs\\aag-talp\\lib\\site-packages (4.6.0)\n",
            "Requirement already satisfied: dnspython<3.0.0,>=1.16.0 in e:\\anaconda3\\envs\\aag-talp\\lib\\site-packages (from pymongo) (2.4.2)\n",
            "Note: you may need to restart the kernel to use updated packages.\n",
            "Requirement already satisfied: requests in e:\\anaconda3\\envs\\aag-talp\\lib\\site-packages (2.31.0)\n",
            "Requirement already satisfied: charset-normalizer<4,>=2 in e:\\anaconda3\\envs\\aag-talp\\lib\\site-packages (from requests) (3.3.2)\n",
            "Requirement already satisfied: idna<4,>=2.5 in e:\\anaconda3\\envs\\aag-talp\\lib\\site-packages (from requests) (3.4)\n",
            "Requirement already satisfied: urllib3<3,>=1.21.1 in e:\\anaconda3\\envs\\aag-talp\\lib\\site-packages (from requests) (2.1.0)\n",
            "Requirement already satisfied: certifi>=2017.4.17 in e:\\anaconda3\\envs\\aag-talp\\lib\\site-packages (from requests) (2023.7.22)\n",
            "Note: you may need to restart the kernel to use updated packages.\n",
            "Requirement already satisfied: pandas in e:\\anaconda3\\envs\\aag-talp\\lib\\site-packages (2.1.3)\n",
            "Requirement already satisfied: numpy<2,>=1.22.4 in e:\\anaconda3\\envs\\aag-talp\\lib\\site-packages (from pandas) (1.26.2)\n",
            "Requirement already satisfied: python-dateutil>=2.8.2 in e:\\anaconda3\\envs\\aag-talp\\lib\\site-packages (from pandas) (2.8.2)\n",
            "Requirement already satisfied: pytz>=2020.1 in e:\\anaconda3\\envs\\aag-talp\\lib\\site-packages (from pandas) (2023.3.post1)\n",
            "Requirement already satisfied: tzdata>=2022.1 in e:\\anaconda3\\envs\\aag-talp\\lib\\site-packages (from pandas) (2023.3)\n",
            "Requirement already satisfied: six>=1.5 in e:\\anaconda3\\envs\\aag-talp\\lib\\site-packages (from python-dateutil>=2.8.2->pandas) (1.16.0)\n",
            "Note: you may need to restart the kernel to use updated packages.\n"
          ]
        }
      ],
      "source": [
        "%pip install confluent-kafka\n",
        "%pip install pyspark\n",
        "%pip install pymongo\n",
        "%pip install requests\n",
        "%pip install pandas"
      ]
    },
    {
      "cell_type": "code",
      "execution_count": 21,
      "metadata": {
        "id": "rDocM4tD89Vv"
      },
      "outputs": [],
      "source": [
        "import confluent_kafka as ck\n",
        "import random\n",
        "import time"
      ]
    },
    {
      "cell_type": "code",
      "execution_count": null,
      "metadata": {
        "colab": {
          "base_uri": "https://localhost:8080/"
        },
        "id": "usSvYgLDIBYc",
        "outputId": "3f0b7241-e398-4b18-84bc-27e3c6a225df"
      },
      "outputs": [
        {
          "name": "stdout",
          "output_type": "stream",
          "text": [
            "2001:861:4d03:cbf0:a422:b926:3262:56e\n"
          ]
        },
        {
          "name": "stderr",
          "output_type": "stream",
          "text": [
            "  % Total    % Received % Xferd  Average Speed   Time    Time     Time  Current\n",
            "                                 Dload  Upload   Total   Spent    Left  Speed\n",
            "\n",
            "  0     0    0     0    0     0      0      0 --:--:-- --:--:-- --:--:--     0\n",
            "100    37  100    37    0     0    258      0 --:--:-- --:--:-- --:--:--   260\n",
            "100    37  100    37    0     0    258      0 --:--:-- --:--:-- --:--:--   258\n"
          ]
        }
      ],
      "source": [
        "%curl ipecho.net/plain"
      ]
    },
    {
      "cell_type": "markdown",
      "metadata": {
        "id": "nReXrXwATNjw"
      },
      "source": [
        "# API Infoclimat"
      ]
    },
    {
      "cell_type": "markdown",
      "metadata": {
        "id": "orq_52vmUiwN"
      },
      "source": [
        "## Config API"
      ]
    },
    {
      "cell_type": "code",
      "execution_count": null,
      "metadata": {
        "colab": {
          "base_uri": "https://localhost:8080/"
        },
        "id": "Qf_ITslMTo-N",
        "outputId": "fbf29a6c-1b58-4f0c-f680-8b4898c90804"
      },
      "outputs": [
        {
          "name": "stdout",
          "output_type": "stream",
          "text": [
            "['000TM', '000QJ', 'ME104', '000L3', '000OS', '000RI']\n"
          ]
        }
      ],
      "source": [
        "allStations = ['0222', '0220', '0219', '0218', '0217', '0216', '0215', '0213', '0212', '0211', '0208', '0206', '0204', '0203', '0202', '0201', '0200', '0198', '0196', '0193', '0192', '0191', '0190', '0189', '0188', '0186', '0185', '0184', '0183', '0182', '0181', '0180', '0179', '0178', '0172', '0170', '0167', '0166', 'ME153', '0165', '0164', '0162', '0151', '0149', '0147', 'ME152', '0145', '0144', '0142', '0171', '0141', '0139', '0138', 'ME151', '0136', '0134', '0133', '0131', '0129', '0128', '0126', '0125', '0124', '0123', '0122', '0120', '0118', '0117', '0116', '0115', '0114', '0111', '0109', '0108', '0107', '0106', '0105', '0103', '0102', '0101', '0100', '0099', '0098', '0097', '0096', '0095', '0092', '0091', '0093', '0224', '0087', '0086', '0085', '0082', '0079', '0076', '0075', '0074', '0073', '0070', '0068', '0067', '0066', '0065', '0063', '0062', '0061', '0059', '0058', '0055', '0054', '0053', '0052', '0051', '0050', '0048', '0047', '0046', '0044', '0039', '0038', '0037', '0036', '0035', '0032', '0031', '0030', '0029', '0027', '0024', '0023', '0022', '0021', '0016', '0015', '0012', '0011', '0072', '0010', '0009', '0007', '0006', '0005', '0002', '0001', '000ZX', '000ZW', '000ZV', '000ZU', '000ZT', '000ZS', '000ZR', '000ZQ', '000ZP', '0060', '000ZO', '000ZN', '000ZM', '000ZL', '000ZJ', '000ZK', '000ZI', '000ZH', '000ZG', '000ZF', '0205', '000ZE', '000ZB', '000YY', '000YW', '000YU', '0025', '000YO', '000YN', '000YM', '000YL', '000YK', '000YJ', '000YI', '000YH', '000YF', '000YE', '000YB', '000XZ', '000XY', '000XX', '000YX', '000XW', '000XR', '000XP', '000XO', '000XK', '0019', '000XJ', '000XI', '000XH', '000XF', '000YG', '000XE', '000XD', '000XB', '000XA', '000WZ', '000WY', '0013', '000YQ', '0071', '000WX', '000WW', '000WU', '000WN', '000WM', '000WL', '000WK', '000WJ', '000WI', '000WG', '000WF', '000WE', 'ME146', '000WD', '000WA', '000VY', '000VX', '000VW', '000VV', '000VT', '000VP', '000VN', '000VM', '000VL', '000VI', '000VF', '000VE', '000VC', '000UZ', '000UY', '000UW', '000UU', '000UT', '000US', '000UQ', '000UO', '000UN', '000UM', '000UL', '000UK', '000UJ', '000UI', '000UH', '000UF', '000UE', '000UB', '000UA', '000TZ', '000TY', '000TW', '000TS', '000TR', '000TQ', '000VJ', '000TO', '000TM', '000TL', '000TK', '000TJ', '000TG', '000TE', '000TD', '000TC', '000TB', '000TA', '000SZ', '000SY', '000SW', '000SU', '000ST', '000SS', '000SR', '000SP', '000SL', '000SK', '000SG', '000SF', '000SE', '000SD', '000SC', '000SB', '000RZ', '000RY', '000RX', '000RT', '000RS', '000RQ', '000RO', '000RM', '000RL', '000RK', '000RJ', '000RI', '000TU', '000RH', '000UC', '000SM', '000UD', '000TN', '000RG', '000RF', '000RE', '000RD', '000RC', '000RA', '000QZ', '000QY', '000RB', '000QX', '000QW', '000QT', '000QS', '000QR', '000QO', '000QN', '000QM', '000QJ', '000QI', '000QH', '000QG', '000QE', '000QD', '000QC', '000QB', '000QA', '000PZ', '000PY', '000PW', '000QF', '000PU', '000PT', '000PS', '000PQ', '000PP', '000PN', '000PM', '000PX', '000PL', '000PJ', '000PI', '000PH', '000PG', '000PA', '000OX', '000OZ', '000OU', '000OS', '000OR', '000OQ', '000OP', '000ON', '000OW', '000OM', '000OK', '000OJ', '000OI', '000OH', '000OG', 'ME139', '000OB', '000OA', '000NZ', '000NX', '000NW', '000NU', '000NT', '000NR', '000NQ', '000NM', '000NK', '000NJ', '000NI', '000NG', '000ND', '000NC', '000NB', '000MZ', '000MW', '000MV', '000MY', '000MS', '000MR', '000MQ', 'ME135', 'ME134', 'ME132', 'ME131', 'ME130', 'ME128', 'ME137', 'ME125', 'ME123', 'ME126', 'ME121', 'ME124', 'ME119', 'ME118', 'ME129', 'ME120', 'ME115', 'ME113', 'ME116', 'ME114', 'ME117', 'ME111', 'ME112', 'ME108', 'ME106', 'ME110', 'ME105', 'ME104', 'ME103', 'ME102', 'ME109', 'ME099', 'ME098', 'ME052', 'ME048', 'ME047', 'ME046', 'ME045', 'ME044', 'ME043', 'ME042', 'ME040', 'ME039', 'ME038', 'ME036', 'ME035', 'ME034', 'ME033', 'ME032', 'ME031', 'ME030', 'ME029', 'ME028', 'ME027', 'ME026', 'ME024', 'ME023', 'ME022', 'ME021', 'ME020', 'ME019', 'ME017', 'ME016', 'ME013', 'ME012', 'ME011', 'ME010', 'ME009', 'ME007', 'ME006', 'ME005', 'ME004', 'ME051', 'ME050', 'ME001', '000MP', 'ME014', '000MO', '000MN', '000ML', '000MK', '000MJ', '000MI', '000MT', '000MG', '000MF', '000MD', '000MB', '000MA', '000LZ', '000LY', '000LV', '000LU', '000LS', '000LR', '000LQ', '000LP', '000LO', '000LM', '000IK', '000IF', '000ID', '000IC', '000IB', '000IA', '000HT', '000HS', '000HO', '000HM', '000HJ', '000HH', '000HF', '000HB', '000GU', '000GT', '000GS', '000GR', '000GQ', '000GP', '000HC', '000GO', '000GN', '000GL', '000GK', '000GJ', '000GI', '000GF', '000GM', '000GC', '000FZ', '000FY', '000FX', '000FW', '000GB', '000FV', '000FU', '000FT', '000FS', '000FR', '000FP', '000FO', '000FN', '000FM', '000FL', '000FK', '000FI', '000FG', '000FE', '000FD', '000FC', '000FB', '000OT', '000FA', '000EW', '000EV', '000EU', '000EQ', '000EN', '000ET', '000II', '000EK', '000EI', '000EP', '000EG', '000ED', '000EC', '000EB', '000DZ', '000DX', '000DV', '000DS', '000DR', '000DQ', '000DP', '000HR', '000DN', '000DM', '000DJ', '000DI', '000DH', '000DF', '000DE', '000DD', '000DC', '000DB', '000CZ', '000CY', '000CX', '000CW', '000CV', '000CT', '000CR', '000CP', '000CO', '000CN', '000CM', '000CK', '000CJ', '000CI', '000CF', '000CE', '000CD', '000CC', '000CA', '000BZ', '000BY', '000BX', '000BV', '000BS', '000BO', '000BM', '000BI', '000BN', '000BG', '000BQ', '000BE', '000BB', '000BA', '000AX', '000AV', '000AS', '000AL', '000AK', '000AJ', '000AI', '000AH', '000AF', '000AD', '000AC', '000AB', '000AA', '000Z9', '000Z7', '000Z6', '000Z4', '000Z1', '000Z0', '000Y5', '000Y3', '000VB', '000AU', '000X8', '000X6', '000X5', '000X4', '000X3', '000X2', '000X1', '000X0', '000W9', '000W8', '000W7', '000Y4', '000W6', '000W5', '000DA', '000W2', '000W1', '000V6', '0132', '000V4', '000V3', '000V2', '000V0', '000U7', '000U6', '000U4', '000U3', '000QU', '000U1', '000U0', '000T8', '000T9', '000T6', '000T5', '000T3', '000T1', '000T0', '000S9', '000S8', '000S6', '000S3', '000S2', '000S4', '000S1', '000S0', '000R6', '000R5', '000R4', '000R3', '000R2', '000R1', '000Q8', '000Q6', '000Q4', '000Q2', '000P9', '000P8', '000P6', '000P4', '000P2', '000P1', '000O9', '000O8', '000O7', '000O5', '000O4', '000O3', '000O2', '000N9', '000N4', '000N3', '000Q7', '000M7', '000M6', '000M4', '000M2', '000L9', '000L7', '000L5', '000L3', '000Q3', '000P7', '000L2', '000L1', '000K7', '000K6', '000K5', '000K4', '000K2', '000K1', '000K0', '000J9', '000J8', '000J4', '000I7', '000J2', '000I9', '000I6', '000I5', '000I4', '000E8', '000E7', '000K3', '000E2', '000E0', '000I2', '000I1', '000H9', '000H8', '000H6', '000H4', '000G7', '000G6', '000G4', '000G3', '000G2', '000G1', '000F8', '000F7', '000F4', '000D8', '000F3', '000BP', '000D5', '000D2', '000D3', '000C9', '000C6', '000C5', '000C7', '000B8', '000B9', '000C1', '000C0', '000B5', '000B6', '000B4', '000B3', '000B0', '000A9', '000A5', '000A6', '000A3', '000A1', '00099', '00098', '00096', '00095', '00094', '00092', '00091', '00089', '00088', '00086', '00080', '00081', '00076', '00074', '00072', '00070', '00065', '00061', '00063', '00060', '00053', '00059', '00054', '00052', '00051', '00049', '00047', '00042', '00041', '00038', '00035', '00033', '00032', '00029', '00025', '00023', '00001', '00018', '00014', '00010', '00009', '000J1', '000VQ', '00004', '00002', 'VENTOUX', '07747', '07650', '07643', '07630', '07627', '07621', '07607', '07591', '07577', '07558', '07535', '07510', '07481', '07471', '07460', '07434', '07335', '07314', '07299', '07280', '07255', '07240', '07222', '07207', '07190', '07181', '07168', '07149', '07139', '07130', '07117', '07110', '07070', '07037', '07027', '07020', '07015', '07005', '000WT', '0113', '0056', '0008', '000TP', '000OO', 'ME107', 'ME025', 'ME008', '000EO', '000CL', '000BU', '000Y9', '000X9', '000U9', '000Q9', '000N6', '000M9', '000M8', '000L4', '000J6', '000J0', '00093', '00075', '00057', '00003', '07661', '000BL', '000C4', '000NP', '000AY', 'ME003', '000Z8', '0148', '000NH', '000V7', '000SH', '000EF', '000WB', 'ME101', '0175', '0174', '0146', 'CAYOLLE', 'ENTRAUNES', '0033', '000ZC', '000YZ', '000XN', '000TX', '000SN', '000PK', '000NL', 'ME015', '000HL', '000HD', '000GH', '000GG', '000GD', '07690', '000UX', '000QV', '000U2', '000ZA', '000SX', '0014', 'ME136', 'ME049', '000XM', '000MX', '000Y1', '000EH', '000YD', '000NF', 'ME138', '000PO', '0084', '0069', '000SO', '000AE', '000N5', '00027', '00015', '07790', '000RN', '0194', '07761', 'ME018', 'ME057', '000CU']\n",
        "#function to get random stations in a range as parameter\n",
        "def get_random_stations(n):\n",
        "  return random.sample(allStations, n)\n",
        "print(get_random_stations(6))"
      ]
    },
    {
      "cell_type": "code",
      "execution_count": null,
      "metadata": {
        "id": "dqbBjBSQUkaS"
      },
      "outputs": [],
      "source": [
        "api_token = 'cELguLzjiB2WDGMIacgzE7cXSmAPIw1MlSEi53H68FxA7bhkqFdcA'\n",
        "stations = get_random_stations(200)"
      ]
    },
    {
      "cell_type": "markdown",
      "metadata": {
        "id": "JLuiDUV4TPxh"
      },
      "source": [
        "## Creation de l'url d'API"
      ]
    },
    {
      "cell_type": "code",
      "execution_count": null,
      "metadata": {
        "id": "7btMTiTR-KpV"
      },
      "outputs": [],
      "source": [
        "\n",
        "import requests\n",
        "import csv\n",
        "from io import StringIO\n",
        "\n",
        "def build_api_url(start, end, token, stations):\n",
        "    base_url = 'https://www.infoclimat.fr/opendata/?method=get&format=csv&'\n",
        "    stations_param = '&'.join([f'stations[]={station}' for station in stations])\n",
        "    date_param = f'start={start}&end={end}'\n",
        "    token_param = f'token={token}'\n",
        "    api_url = f'{base_url}{stations_param}&{date_param}&{token_param}'\n",
        "    return api_url\n",
        "\n"
      ]
    },
    {
      "cell_type": "markdown",
      "metadata": {
        "id": "lD47BeL5TUL3"
      },
      "source": [
        "## Appel d'API"
      ]
    },
    {
      "cell_type": "code",
      "execution_count": null,
      "metadata": {
        "id": "oQkmtdE_GcD6"
      },
      "outputs": [],
      "source": [
        "import pandas as pd\n",
        "\n",
        "def call_api(api_url):\n",
        "  # Make a GET request to the API\n",
        "  headers = {'User-Agent': 'Mozilla/5.0'}\n",
        "  response = requests.get(api_url, headers=headers, timeout=25)\n",
        "  response.encoding='utf-8-sig'\n",
        "  #time.sleep()\n",
        "  df = pd.DataFrame()\n",
        "  # Check if the request was successful (status code 200)\n",
        "  if response.status_code == 200:\n",
        "        try:\n",
        "            # Parse the CSV data using the csv module\n",
        "            df = pd.read_csv(StringIO(response.text), na_values=['nan'], on_bad_lines='skip', encoding='utf-8-sig')\n",
        "            time.sleep(5)\n",
        "        except Exception as e:\n",
        "            print(f\"Error decoding CSV: {e}\")\n",
        "  else:\n",
        "      # If the request was not successful, print the error code\n",
        "      print(f\"Error: {response.status_code}\")\n",
        "  #display(df)\n",
        "  return df"
      ]
    },
    {
      "cell_type": "markdown",
      "metadata": {
        "id": "z8b2TBw7U8v0"
      },
      "source": [
        "### Test Appel Api"
      ]
    },
    {
      "cell_type": "code",
      "execution_count": null,
      "metadata": {
        "colab": {
          "base_uri": "https://localhost:8080/",
          "height": 478
        },
        "id": "ZiZUbGBlU-EV",
        "outputId": "7487da52-73b8-48d8-aac7-4ef1574fdf2f"
      },
      "outputs": [
        {
          "name": "stdout",
          "output_type": "stream",
          "text": [
            "https://www.infoclimat.fr/opendata/?method=get&format=csv&stations[]=000QT&stations[]=000UB&stations[]=0145&stations[]=000CF&stations[]=000A3&stations[]=000FN&stations[]=000D5&stations[]=000BQ&stations[]=000DM&stations[]=000EG&stations[]=ME049&stations[]=000BO&stations[]=000CK&stations[]=ME010&stations[]=00088&stations[]=000BV&stations[]=ME006&stations[]=000L3&stations[]=000RT&stations[]=000WI&stations[]=000F8&stations[]=000H8&stations[]=000X9&stations[]=00047&stations[]=000C7&stations[]=0217&stations[]=ME151&stations[]=000MX&stations[]=000AL&stations[]=0102&stations[]=0013&stations[]=000HC&stations[]=000WB&stations[]=000R3&stations[]=0126&stations[]=000RQ&stations[]=ME099&stations[]=000HO&stations[]=0136&stations[]=00004&stations[]=ME107&stations[]=ME046&stations[]=000QW&stations[]=000FP&stations[]=000SR&stations[]=00049&stations[]=000PG&stations[]=000AF&stations[]=000P9&stations[]=000O9&stations[]=000OH&stations[]=000S4&stations[]=000NF&stations[]=000TY&stations[]=000QB&stations[]=0141&stations[]=000FX&stations[]=000T5&stations[]=000VP&stations[]=000OA&stations[]=000NB&stations[]=0025&stations[]=0211&stations[]=000TL&stations[]=000CR&stations[]=0206&stations[]=00052&stations[]=000UI&stations[]=000E7&stations[]=ME102&stations[]=000RM&stations[]=00074&stations[]=000UQ&stations[]=000QZ&stations[]=000PJ&stations[]=000TP&stations[]=0208&stations[]=00092&stations[]=000OT&stations[]=000SF&stations[]=000FU&stations[]=000YL&stations[]=000AB&stations[]=ME117&stations[]=0188&stations[]=00014&stations[]=ME043&stations[]=000J6&stations[]=000I4&stations[]=00027&stations[]=000ZI&stations[]=000Z7&stations[]=000AX&stations[]=ME029&stations[]=07434&stations[]=0192&stations[]=000DN&stations[]=VENTOUX&stations[]=0166&stations[]=000K7&stations[]=000Z8&stations[]=000M6&stations[]=000QD&stations[]=0085&stations[]=0099&stations[]=000UK&stations[]=000WL&stations[]=0182&stations[]=000ML&stations[]=000PX&stations[]=000J0&stations[]=000E8&stations[]=000LS&stations[]=000A6&stations[]=000PO&stations[]=000US&stations[]=0031&stations[]=000G7&stations[]=0138&stations[]=07460&stations[]=ME017&stations[]=000MN&stations[]=000MG&stations[]=000PW&stations[]=ME036&stations[]=000WK&stations[]=000MO&stations[]=000DI&stations[]=ME018&stations[]=000UA&stations[]=00070&stations[]=000GF&stations[]=000FZ&stations[]=000FD&stations[]=000ND&stations[]=000GR&stations[]=000V3&stations[]=0111&stations[]=000RD&stations[]=000AC&stations[]=0123&stations[]=000LU&stations[]=000GB&stations[]=000J8&stations[]=000WA&stations[]=07181&stations[]=000LM&stations[]=ME103&stations[]=000R1&stations[]=ME011&stations[]=000UE&stations[]=ME048&stations[]=0190&stations[]=07790&stations[]=000ZJ&stations[]=0060&stations[]=000RJ&stations[]=ME026&stations[]=000ZG&stations[]=000FT&stations[]=0164&stations[]=000YG&stations[]=0006&stations[]=ME116&stations[]=000MB&stations[]=0170&stations[]=000EP&stations[]=000ZF&stations[]=000YB&stations[]=0054&stations[]=000G1&stations[]=000CN&stations[]=000HD&stations[]=000EV&stations[]=ME042&stations[]=000O7&stations[]=000W6&stations[]=000UD&stations[]=000AD&stations[]=07510&stations[]=000BM&stations[]=00075&stations[]=000DS&stations[]=07591&stations[]=000W1&stations[]=000GS&stations[]=0222&stations[]=ME119&stations[]=000Q9&stations[]=000RS&stations[]=000OU&stations[]=ME044&stations[]=000P1&stations[]=000WG&stations[]=07190&stations[]=0019&stations[]=0012&stations[]=000NZ&stations[]=000QF&stations[]=000WN&stations[]=000BV&start=2019-11-29&end=2019-11-30&token=cELguLzjiB2WDGMIacgzE7cXSmAPIw1MlSEi53H68FxA7bhkqFdcA\n"
          ]
        },
        {
          "name": "stdout",
          "output_type": "stream",
          "text": [
            "CSV Data:\n"
          ]
        },
        {
          "data": {
            "text/html": [
              "<div>\n",
              "<style scoped>\n",
              "    .dataframe tbody tr th:only-of-type {\n",
              "        vertical-align: middle;\n",
              "    }\n",
              "\n",
              "    .dataframe tbody tr th {\n",
              "        vertical-align: top;\n",
              "    }\n",
              "\n",
              "    .dataframe thead th {\n",
              "        text-align: right;\n",
              "    }\n",
              "</style>\n",
              "<table border=\"1\" class=\"dataframe\">\n",
              "  <thead>\n",
              "    <tr style=\"text-align: right;\">\n",
              "      <th></th>\n",
              "      <th># METADATA:</th>\n",
              "    </tr>\n",
              "  </thead>\n",
              "  <tbody>\n",
              "    <tr>\n",
              "      <th>0</th>\n",
              "      <td># 00004: Granges lès Beaumont</td>\n",
              "    </tr>\n",
              "    <tr>\n",
              "      <th>1</th>\n",
              "      <td># 00014: Saint-Martin-d'Hères</td>\n",
              "    </tr>\n",
              "    <tr>\n",
              "      <th>2</th>\n",
              "      <td># 00027: Cardo</td>\n",
              "    </tr>\n",
              "    <tr>\n",
              "      <th>3</th>\n",
              "      <td># 00047: Plabennec</td>\n",
              "    </tr>\n",
              "    <tr>\n",
              "      <th>4</th>\n",
              "      <td># 00049: Saint-Symphorien - Verrières</td>\n",
              "    </tr>\n",
              "    <tr>\n",
              "      <th>...</th>\n",
              "      <td>...</td>\n",
              "    </tr>\n",
              "    <tr>\n",
              "      <th>21921</th>\n",
              "      <td>VENTOUX;2019-11-30 19:00:00;-0.7;;;;91.8;99.7;...</td>\n",
              "    </tr>\n",
              "    <tr>\n",
              "      <th>21922</th>\n",
              "      <td>VENTOUX;2019-11-30 20:00:00;-0.5;;;;92.9;101.2...</td>\n",
              "    </tr>\n",
              "    <tr>\n",
              "      <th>21923</th>\n",
              "      <td>VENTOUX;2019-11-30 21:00:00;-1.2;;;;74.9;88.9;...</td>\n",
              "    </tr>\n",
              "    <tr>\n",
              "      <th>21924</th>\n",
              "      <td>VENTOUX;2019-11-30 22:00:00;-1.5;;;;86.8;104.4...</td>\n",
              "    </tr>\n",
              "    <tr>\n",
              "      <th>21925</th>\n",
              "      <td>VENTOUX;2019-11-30 23:00:00;-0.7;;;;94;112.7;139;</td>\n",
              "    </tr>\n",
              "  </tbody>\n",
              "</table>\n",
              "<p>21926 rows × 1 columns</p>\n",
              "</div>"
            ],
            "text/plain": [
              "                                             # METADATA:\n",
              "0                          # 00004: Granges lès Beaumont\n",
              "1                          # 00014: Saint-Martin-d'Hères\n",
              "2                                         # 00027: Cardo\n",
              "3                                     # 00047: Plabennec\n",
              "4                  # 00049: Saint-Symphorien - Verrières\n",
              "...                                                  ...\n",
              "21921  VENTOUX;2019-11-30 19:00:00;-0.7;;;;91.8;99.7;...\n",
              "21922  VENTOUX;2019-11-30 20:00:00;-0.5;;;;92.9;101.2...\n",
              "21923  VENTOUX;2019-11-30 21:00:00;-1.2;;;;74.9;88.9;...\n",
              "21924  VENTOUX;2019-11-30 22:00:00;-1.5;;;;86.8;104.4...\n",
              "21925  VENTOUX;2019-11-30 23:00:00;-0.7;;;;94;112.7;139;\n",
              "\n",
              "[21926 rows x 1 columns]"
            ]
          },
          "execution_count": 129,
          "metadata": {},
          "output_type": "execute_result"
        }
      ],
      "source": [
        "# Example usage:\n",
        "start_date = '2019-11-29'\n",
        "end_date = '2019-11-30'\n",
        "stations.append('000BV')\n",
        "api_url = build_api_url(start_date, end_date, api_token, stations)\n",
        "print(api_url)\n",
        "csv_data = call_api(api_url)\n",
        "\n",
        "print(\"CSV Data:\")\n",
        "csv_data"
      ]
    },
    {
      "cell_type": "markdown",
      "metadata": {
        "id": "iFhIMDbbTXAc"
      },
      "source": [
        "## Recuperer les intervalles de semaines de 1 mois precis"
      ]
    },
    {
      "cell_type": "code",
      "execution_count": null,
      "metadata": {
        "colab": {
          "base_uri": "https://localhost:8080/"
        },
        "id": "2jqmiNOeTAqa",
        "outputId": "154a3460-3257-46b4-d38a-ce66824c4d32"
      },
      "outputs": [
        {
          "name": "stdout",
          "output_type": "stream",
          "text": [
            "Start and finish dates for 2019-11: [['2019-11-01', '2019-11-07'], ['2019-11-08', '2019-11-14'], ['2019-11-15', '2019-11-21'], ['2019-11-22', '2019-11-28'], ['2019-11-29', '2019-11-30']]\n"
          ]
        }
      ],
      "source": [
        "from datetime import datetime, timedelta, date\n",
        "import calendar\n",
        "\n",
        "def get_week_intervals(year, month):\n",
        "    first_day = datetime(year, month, 1)\n",
        "    _, last_day_of_month = calendar.monthrange(year, month)\n",
        "    last_day = datetime(year, month, last_day_of_month)\n",
        "    num_weeks = (last_day - first_day).days // 7 + 1\n",
        "    start_and_finish_dates = []\n",
        "\n",
        "    for week in range(num_weeks):\n",
        "        start_date = first_day + timedelta(days=week * 7)\n",
        "        finish_date = min(first_day + timedelta(days=(week + 1) * 7 - 1), last_day)\n",
        "        start_and_finish_dates.append([start_date.strftime('%Y-%m-%d'), finish_date.strftime('%Y-%m-%d')])\n",
        "\n",
        "    return start_and_finish_dates\n",
        "\n",
        "# Example usage:\n",
        "year = 2019\n",
        "month = 11\n",
        "start_and_finish_dates = get_week_intervals(year, month)\n",
        "print(f'Start and finish dates for {year}-{month:02d}: {start_and_finish_dates}')"
      ]
    },
    {
      "cell_type": "markdown",
      "metadata": {
        "id": "qkfkyA0UWovE"
      },
      "source": [
        "## Recuperer dataframe des donnes meteo d'un mois precis"
      ]
    },
    {
      "cell_type": "code",
      "execution_count": 131,
      "metadata": {
        "colab": {
          "base_uri": "https://localhost:8080/"
        },
        "id": "6AzM8oXlWoTF",
        "outputId": "7ceb1012-07a0-4ff9-d3de-57720bf89a9c"
      },
      "outputs": [
        {
          "ename": "KeyboardInterrupt",
          "evalue": "",
          "output_type": "error",
          "traceback": [
            "\u001b[1;31m---------------------------------------------------------------------------\u001b[0m",
            "\u001b[1;31mKeyboardInterrupt\u001b[0m                         Traceback (most recent call last)",
            "\u001b[1;32mc:\\Users\\Julian\\OneDrive\\Desktop\\Projet Big Data\\ProjetBigDataM2-2024\\BigData.ipynb Cell 19\u001b[0m line \u001b[0;36m3\n\u001b[0;32m     <a href='vscode-notebook-cell:/c%3A/Users/Julian/OneDrive/Desktop/Projet%20Big%20Data/ProjetBigDataM2-2024/BigData.ipynb#X24sZmlsZQ%3D%3D?line=26'>27</a>\u001b[0m year \u001b[39m=\u001b[39m \u001b[39m2019\u001b[39m\n\u001b[0;32m     <a href='vscode-notebook-cell:/c%3A/Users/Julian/OneDrive/Desktop/Projet%20Big%20Data/ProjetBigDataM2-2024/BigData.ipynb#X24sZmlsZQ%3D%3D?line=27'>28</a>\u001b[0m month \u001b[39m=\u001b[39m \u001b[39m11\u001b[39m\n\u001b[1;32m---> <a href='vscode-notebook-cell:/c%3A/Users/Julian/OneDrive/Desktop/Projet%20Big%20Data/ProjetBigDataM2-2024/BigData.ipynb#X24sZmlsZQ%3D%3D?line=29'>30</a>\u001b[0m result_dataframe \u001b[39m=\u001b[39m get_data_for_month(year, month, api_token, stations)\n\u001b[0;32m     <a href='vscode-notebook-cell:/c%3A/Users/Julian/OneDrive/Desktop/Projet%20Big%20Data/ProjetBigDataM2-2024/BigData.ipynb#X24sZmlsZQ%3D%3D?line=30'>31</a>\u001b[0m \u001b[39mprint\u001b[39m(result_dataframe)\n",
            "\u001b[1;32mc:\\Users\\Julian\\OneDrive\\Desktop\\Projet Big Data\\ProjetBigDataM2-2024\\BigData.ipynb Cell 19\u001b[0m line \u001b[0;36m1\n\u001b[0;32m     <a href='vscode-notebook-cell:/c%3A/Users/Julian/OneDrive/Desktop/Projet%20Big%20Data/ProjetBigDataM2-2024/BigData.ipynb#X24sZmlsZQ%3D%3D?line=13'>14</a>\u001b[0m api_url \u001b[39m=\u001b[39m build_api_url(start_date, finish_date, token, stations)\n\u001b[0;32m     <a href='vscode-notebook-cell:/c%3A/Users/Julian/OneDrive/Desktop/Projet%20Big%20Data/ProjetBigDataM2-2024/BigData.ipynb#X24sZmlsZQ%3D%3D?line=14'>15</a>\u001b[0m \u001b[39m# Call API to get dataframe\u001b[39;00m\n\u001b[1;32m---> <a href='vscode-notebook-cell:/c%3A/Users/Julian/OneDrive/Desktop/Projet%20Big%20Data/ProjetBigDataM2-2024/BigData.ipynb#X24sZmlsZQ%3D%3D?line=15'>16</a>\u001b[0m dataframe \u001b[39m=\u001b[39m call_api(api_url)\n\u001b[0;32m     <a href='vscode-notebook-cell:/c%3A/Users/Julian/OneDrive/Desktop/Projet%20Big%20Data/ProjetBigDataM2-2024/BigData.ipynb#X24sZmlsZQ%3D%3D?line=16'>17</a>\u001b[0m \u001b[39mif\u001b[39;00m skip_rows \u001b[39m>\u001b[39m \u001b[39m0\u001b[39m \u001b[39mand\u001b[39;00m \u001b[39mlen\u001b[39m(dataframes) \u001b[39m>\u001b[39m \u001b[39m0\u001b[39m \u001b[39mand\u001b[39;00m \u001b[39mnot\u001b[39;00m dataframe\u001b[39m.\u001b[39mempty:\n\u001b[0;32m     <a href='vscode-notebook-cell:/c%3A/Users/Julian/OneDrive/Desktop/Projet%20Big%20Data/ProjetBigDataM2-2024/BigData.ipynb#X24sZmlsZQ%3D%3D?line=17'>18</a>\u001b[0m     dataframe \u001b[39m=\u001b[39m dataframe\u001b[39m.\u001b[39miloc[skip_rows:]\n",
            "\u001b[1;32mc:\\Users\\Julian\\OneDrive\\Desktop\\Projet Big Data\\ProjetBigDataM2-2024\\BigData.ipynb Cell 19\u001b[0m line \u001b[0;36m6\n\u001b[0;32m      <a href='vscode-notebook-cell:/c%3A/Users/Julian/OneDrive/Desktop/Projet%20Big%20Data/ProjetBigDataM2-2024/BigData.ipynb#X24sZmlsZQ%3D%3D?line=2'>3</a>\u001b[0m \u001b[39mdef\u001b[39;00m \u001b[39mcall_api\u001b[39m(api_url):\n\u001b[0;32m      <a href='vscode-notebook-cell:/c%3A/Users/Julian/OneDrive/Desktop/Projet%20Big%20Data/ProjetBigDataM2-2024/BigData.ipynb#X24sZmlsZQ%3D%3D?line=3'>4</a>\u001b[0m   \u001b[39m# Make a GET request to the API\u001b[39;00m\n\u001b[0;32m      <a href='vscode-notebook-cell:/c%3A/Users/Julian/OneDrive/Desktop/Projet%20Big%20Data/ProjetBigDataM2-2024/BigData.ipynb#X24sZmlsZQ%3D%3D?line=4'>5</a>\u001b[0m   headers \u001b[39m=\u001b[39m {\u001b[39m'\u001b[39m\u001b[39mUser-Agent\u001b[39m\u001b[39m'\u001b[39m: \u001b[39m'\u001b[39m\u001b[39mMozilla/5.0\u001b[39m\u001b[39m'\u001b[39m}\n\u001b[1;32m----> <a href='vscode-notebook-cell:/c%3A/Users/Julian/OneDrive/Desktop/Projet%20Big%20Data/ProjetBigDataM2-2024/BigData.ipynb#X24sZmlsZQ%3D%3D?line=5'>6</a>\u001b[0m   response \u001b[39m=\u001b[39m requests\u001b[39m.\u001b[39;49mget(api_url, headers\u001b[39m=\u001b[39;49mheaders, timeout\u001b[39m=\u001b[39;49m\u001b[39m25\u001b[39;49m)\n\u001b[0;32m      <a href='vscode-notebook-cell:/c%3A/Users/Julian/OneDrive/Desktop/Projet%20Big%20Data/ProjetBigDataM2-2024/BigData.ipynb#X24sZmlsZQ%3D%3D?line=6'>7</a>\u001b[0m   response\u001b[39m.\u001b[39mencoding\u001b[39m=\u001b[39m\u001b[39m'\u001b[39m\u001b[39mutf-8-sig\u001b[39m\u001b[39m'\u001b[39m\n\u001b[0;32m      <a href='vscode-notebook-cell:/c%3A/Users/Julian/OneDrive/Desktop/Projet%20Big%20Data/ProjetBigDataM2-2024/BigData.ipynb#X24sZmlsZQ%3D%3D?line=7'>8</a>\u001b[0m   \u001b[39m#time.sleep()\u001b[39;00m\n",
            "File \u001b[1;32me:\\anaconda3\\envs\\aag-talp\\lib\\site-packages\\requests\\api.py:73\u001b[0m, in \u001b[0;36mget\u001b[1;34m(url, params, **kwargs)\u001b[0m\n\u001b[0;32m     62\u001b[0m \u001b[39mdef\u001b[39;00m \u001b[39mget\u001b[39m(url, params\u001b[39m=\u001b[39m\u001b[39mNone\u001b[39;00m, \u001b[39m*\u001b[39m\u001b[39m*\u001b[39mkwargs):\n\u001b[0;32m     63\u001b[0m \u001b[39m    \u001b[39m\u001b[39mr\u001b[39m\u001b[39m\"\"\"Sends a GET request.\u001b[39;00m\n\u001b[0;32m     64\u001b[0m \n\u001b[0;32m     65\u001b[0m \u001b[39m    :param url: URL for the new :class:`Request` object.\u001b[39;00m\n\u001b[1;32m   (...)\u001b[0m\n\u001b[0;32m     70\u001b[0m \u001b[39m    :rtype: requests.Response\u001b[39;00m\n\u001b[0;32m     71\u001b[0m \u001b[39m    \"\"\"\u001b[39;00m\n\u001b[1;32m---> 73\u001b[0m     \u001b[39mreturn\u001b[39;00m request(\u001b[39m\"\u001b[39m\u001b[39mget\u001b[39m\u001b[39m\"\u001b[39m, url, params\u001b[39m=\u001b[39mparams, \u001b[39m*\u001b[39m\u001b[39m*\u001b[39mkwargs)\n",
            "File \u001b[1;32me:\\anaconda3\\envs\\aag-talp\\lib\\site-packages\\requests\\api.py:59\u001b[0m, in \u001b[0;36mrequest\u001b[1;34m(method, url, **kwargs)\u001b[0m\n\u001b[0;32m     55\u001b[0m \u001b[39m# By using the 'with' statement we are sure the session is closed, thus we\u001b[39;00m\n\u001b[0;32m     56\u001b[0m \u001b[39m# avoid leaving sockets open which can trigger a ResourceWarning in some\u001b[39;00m\n\u001b[0;32m     57\u001b[0m \u001b[39m# cases, and look like a memory leak in others.\u001b[39;00m\n\u001b[0;32m     58\u001b[0m \u001b[39mwith\u001b[39;00m sessions\u001b[39m.\u001b[39mSession() \u001b[39mas\u001b[39;00m session:\n\u001b[1;32m---> 59\u001b[0m     \u001b[39mreturn\u001b[39;00m session\u001b[39m.\u001b[39mrequest(method\u001b[39m=\u001b[39mmethod, url\u001b[39m=\u001b[39murl, \u001b[39m*\u001b[39m\u001b[39m*\u001b[39mkwargs)\n",
            "File \u001b[1;32me:\\anaconda3\\envs\\aag-talp\\lib\\site-packages\\requests\\sessions.py:589\u001b[0m, in \u001b[0;36mSession.request\u001b[1;34m(self, method, url, params, data, headers, cookies, files, auth, timeout, allow_redirects, proxies, hooks, stream, verify, cert, json)\u001b[0m\n\u001b[0;32m    584\u001b[0m send_kwargs \u001b[39m=\u001b[39m {\n\u001b[0;32m    585\u001b[0m     \u001b[39m\"\u001b[39m\u001b[39mtimeout\u001b[39m\u001b[39m\"\u001b[39m: timeout,\n\u001b[0;32m    586\u001b[0m     \u001b[39m\"\u001b[39m\u001b[39mallow_redirects\u001b[39m\u001b[39m\"\u001b[39m: allow_redirects,\n\u001b[0;32m    587\u001b[0m }\n\u001b[0;32m    588\u001b[0m send_kwargs\u001b[39m.\u001b[39mupdate(settings)\n\u001b[1;32m--> 589\u001b[0m resp \u001b[39m=\u001b[39m \u001b[39mself\u001b[39m\u001b[39m.\u001b[39msend(prep, \u001b[39m*\u001b[39m\u001b[39m*\u001b[39msend_kwargs)\n\u001b[0;32m    591\u001b[0m \u001b[39mreturn\u001b[39;00m resp\n",
            "File \u001b[1;32me:\\anaconda3\\envs\\aag-talp\\lib\\site-packages\\requests\\sessions.py:703\u001b[0m, in \u001b[0;36mSession.send\u001b[1;34m(self, request, **kwargs)\u001b[0m\n\u001b[0;32m    700\u001b[0m start \u001b[39m=\u001b[39m preferred_clock()\n\u001b[0;32m    702\u001b[0m \u001b[39m# Send the request\u001b[39;00m\n\u001b[1;32m--> 703\u001b[0m r \u001b[39m=\u001b[39m adapter\u001b[39m.\u001b[39msend(request, \u001b[39m*\u001b[39m\u001b[39m*\u001b[39mkwargs)\n\u001b[0;32m    705\u001b[0m \u001b[39m# Total elapsed time of the request (approximately)\u001b[39;00m\n\u001b[0;32m    706\u001b[0m elapsed \u001b[39m=\u001b[39m preferred_clock() \u001b[39m-\u001b[39m start\n",
            "File \u001b[1;32me:\\anaconda3\\envs\\aag-talp\\lib\\site-packages\\requests\\adapters.py:486\u001b[0m, in \u001b[0;36mHTTPAdapter.send\u001b[1;34m(self, request, stream, timeout, verify, cert, proxies)\u001b[0m\n\u001b[0;32m    483\u001b[0m     timeout \u001b[39m=\u001b[39m TimeoutSauce(connect\u001b[39m=\u001b[39mtimeout, read\u001b[39m=\u001b[39mtimeout)\n\u001b[0;32m    485\u001b[0m \u001b[39mtry\u001b[39;00m:\n\u001b[1;32m--> 486\u001b[0m     resp \u001b[39m=\u001b[39m conn\u001b[39m.\u001b[39;49murlopen(\n\u001b[0;32m    487\u001b[0m         method\u001b[39m=\u001b[39;49mrequest\u001b[39m.\u001b[39;49mmethod,\n\u001b[0;32m    488\u001b[0m         url\u001b[39m=\u001b[39;49murl,\n\u001b[0;32m    489\u001b[0m         body\u001b[39m=\u001b[39;49mrequest\u001b[39m.\u001b[39;49mbody,\n\u001b[0;32m    490\u001b[0m         headers\u001b[39m=\u001b[39;49mrequest\u001b[39m.\u001b[39;49mheaders,\n\u001b[0;32m    491\u001b[0m         redirect\u001b[39m=\u001b[39;49m\u001b[39mFalse\u001b[39;49;00m,\n\u001b[0;32m    492\u001b[0m         assert_same_host\u001b[39m=\u001b[39;49m\u001b[39mFalse\u001b[39;49;00m,\n\u001b[0;32m    493\u001b[0m         preload_content\u001b[39m=\u001b[39;49m\u001b[39mFalse\u001b[39;49;00m,\n\u001b[0;32m    494\u001b[0m         decode_content\u001b[39m=\u001b[39;49m\u001b[39mFalse\u001b[39;49;00m,\n\u001b[0;32m    495\u001b[0m         retries\u001b[39m=\u001b[39;49m\u001b[39mself\u001b[39;49m\u001b[39m.\u001b[39;49mmax_retries,\n\u001b[0;32m    496\u001b[0m         timeout\u001b[39m=\u001b[39;49mtimeout,\n\u001b[0;32m    497\u001b[0m         chunked\u001b[39m=\u001b[39;49mchunked,\n\u001b[0;32m    498\u001b[0m     )\n\u001b[0;32m    500\u001b[0m \u001b[39mexcept\u001b[39;00m (ProtocolError, \u001b[39mOSError\u001b[39;00m) \u001b[39mas\u001b[39;00m err:\n\u001b[0;32m    501\u001b[0m     \u001b[39mraise\u001b[39;00m \u001b[39mConnectionError\u001b[39;00m(err, request\u001b[39m=\u001b[39mrequest)\n",
            "File \u001b[1;32me:\\anaconda3\\envs\\aag-talp\\lib\\site-packages\\urllib3\\connectionpool.py:790\u001b[0m, in \u001b[0;36mHTTPConnectionPool.urlopen\u001b[1;34m(self, method, url, body, headers, retries, redirect, assert_same_host, timeout, pool_timeout, release_conn, chunked, body_pos, preload_content, decode_content, **response_kw)\u001b[0m\n\u001b[0;32m    787\u001b[0m response_conn \u001b[39m=\u001b[39m conn \u001b[39mif\u001b[39;00m \u001b[39mnot\u001b[39;00m release_conn \u001b[39melse\u001b[39;00m \u001b[39mNone\u001b[39;00m\n\u001b[0;32m    789\u001b[0m \u001b[39m# Make the request on the HTTPConnection object\u001b[39;00m\n\u001b[1;32m--> 790\u001b[0m response \u001b[39m=\u001b[39m \u001b[39mself\u001b[39m\u001b[39m.\u001b[39m_make_request(\n\u001b[0;32m    791\u001b[0m     conn,\n\u001b[0;32m    792\u001b[0m     method,\n\u001b[0;32m    793\u001b[0m     url,\n\u001b[0;32m    794\u001b[0m     timeout\u001b[39m=\u001b[39mtimeout_obj,\n\u001b[0;32m    795\u001b[0m     body\u001b[39m=\u001b[39mbody,\n\u001b[0;32m    796\u001b[0m     headers\u001b[39m=\u001b[39mheaders,\n\u001b[0;32m    797\u001b[0m     chunked\u001b[39m=\u001b[39mchunked,\n\u001b[0;32m    798\u001b[0m     retries\u001b[39m=\u001b[39mretries,\n\u001b[0;32m    799\u001b[0m     response_conn\u001b[39m=\u001b[39mresponse_conn,\n\u001b[0;32m    800\u001b[0m     preload_content\u001b[39m=\u001b[39mpreload_content,\n\u001b[0;32m    801\u001b[0m     decode_content\u001b[39m=\u001b[39mdecode_content,\n\u001b[0;32m    802\u001b[0m     \u001b[39m*\u001b[39m\u001b[39m*\u001b[39mresponse_kw,\n\u001b[0;32m    803\u001b[0m )\n\u001b[0;32m    805\u001b[0m \u001b[39m# Everything went great!\u001b[39;00m\n\u001b[0;32m    806\u001b[0m clean_exit \u001b[39m=\u001b[39m \u001b[39mTrue\u001b[39;00m\n",
            "File \u001b[1;32me:\\anaconda3\\envs\\aag-talp\\lib\\site-packages\\urllib3\\connectionpool.py:536\u001b[0m, in \u001b[0;36mHTTPConnectionPool._make_request\u001b[1;34m(self, conn, method, url, body, headers, retries, timeout, chunked, response_conn, preload_content, decode_content, enforce_content_length)\u001b[0m\n\u001b[0;32m    534\u001b[0m \u001b[39m# Receive the response from the server\u001b[39;00m\n\u001b[0;32m    535\u001b[0m \u001b[39mtry\u001b[39;00m:\n\u001b[1;32m--> 536\u001b[0m     response \u001b[39m=\u001b[39m conn\u001b[39m.\u001b[39;49mgetresponse()\n\u001b[0;32m    537\u001b[0m \u001b[39mexcept\u001b[39;00m (BaseSSLError, \u001b[39mOSError\u001b[39;00m) \u001b[39mas\u001b[39;00m e:\n\u001b[0;32m    538\u001b[0m     \u001b[39mself\u001b[39m\u001b[39m.\u001b[39m_raise_timeout(err\u001b[39m=\u001b[39me, url\u001b[39m=\u001b[39murl, timeout_value\u001b[39m=\u001b[39mread_timeout)\n",
            "File \u001b[1;32me:\\anaconda3\\envs\\aag-talp\\lib\\site-packages\\urllib3\\connection.py:461\u001b[0m, in \u001b[0;36mHTTPConnection.getresponse\u001b[1;34m(self)\u001b[0m\n\u001b[0;32m    458\u001b[0m \u001b[39mfrom\u001b[39;00m \u001b[39m.\u001b[39;00m\u001b[39mresponse\u001b[39;00m \u001b[39mimport\u001b[39;00m HTTPResponse\n\u001b[0;32m    460\u001b[0m \u001b[39m# Get the response from http.client.HTTPConnection\u001b[39;00m\n\u001b[1;32m--> 461\u001b[0m httplib_response \u001b[39m=\u001b[39m \u001b[39msuper\u001b[39;49m()\u001b[39m.\u001b[39;49mgetresponse()\n\u001b[0;32m    463\u001b[0m \u001b[39mtry\u001b[39;00m:\n\u001b[0;32m    464\u001b[0m     assert_header_parsing(httplib_response\u001b[39m.\u001b[39mmsg)\n",
            "File \u001b[1;32me:\\anaconda3\\envs\\aag-talp\\lib\\http\\client.py:1377\u001b[0m, in \u001b[0;36mHTTPConnection.getresponse\u001b[1;34m(self)\u001b[0m\n\u001b[0;32m   1375\u001b[0m \u001b[39mtry\u001b[39;00m:\n\u001b[0;32m   1376\u001b[0m     \u001b[39mtry\u001b[39;00m:\n\u001b[1;32m-> 1377\u001b[0m         response\u001b[39m.\u001b[39;49mbegin()\n\u001b[0;32m   1378\u001b[0m     \u001b[39mexcept\u001b[39;00m \u001b[39mConnectionError\u001b[39;00m:\n\u001b[0;32m   1379\u001b[0m         \u001b[39mself\u001b[39m\u001b[39m.\u001b[39mclose()\n",
            "File \u001b[1;32me:\\anaconda3\\envs\\aag-talp\\lib\\http\\client.py:320\u001b[0m, in \u001b[0;36mHTTPResponse.begin\u001b[1;34m(self)\u001b[0m\n\u001b[0;32m    318\u001b[0m \u001b[39m# read until we get a non-100 response\u001b[39;00m\n\u001b[0;32m    319\u001b[0m \u001b[39mwhile\u001b[39;00m \u001b[39mTrue\u001b[39;00m:\n\u001b[1;32m--> 320\u001b[0m     version, status, reason \u001b[39m=\u001b[39m \u001b[39mself\u001b[39;49m\u001b[39m.\u001b[39;49m_read_status()\n\u001b[0;32m    321\u001b[0m     \u001b[39mif\u001b[39;00m status \u001b[39m!=\u001b[39m CONTINUE:\n\u001b[0;32m    322\u001b[0m         \u001b[39mbreak\u001b[39;00m\n",
            "File \u001b[1;32me:\\anaconda3\\envs\\aag-talp\\lib\\http\\client.py:281\u001b[0m, in \u001b[0;36mHTTPResponse._read_status\u001b[1;34m(self)\u001b[0m\n\u001b[0;32m    280\u001b[0m \u001b[39mdef\u001b[39;00m \u001b[39m_read_status\u001b[39m(\u001b[39mself\u001b[39m):\n\u001b[1;32m--> 281\u001b[0m     line \u001b[39m=\u001b[39m \u001b[39mstr\u001b[39m(\u001b[39mself\u001b[39;49m\u001b[39m.\u001b[39;49mfp\u001b[39m.\u001b[39;49mreadline(_MAXLINE \u001b[39m+\u001b[39;49m \u001b[39m1\u001b[39;49m), \u001b[39m\"\u001b[39m\u001b[39miso-8859-1\u001b[39m\u001b[39m\"\u001b[39m)\n\u001b[0;32m    282\u001b[0m     \u001b[39mif\u001b[39;00m \u001b[39mlen\u001b[39m(line) \u001b[39m>\u001b[39m _MAXLINE:\n\u001b[0;32m    283\u001b[0m         \u001b[39mraise\u001b[39;00m LineTooLong(\u001b[39m\"\u001b[39m\u001b[39mstatus line\u001b[39m\u001b[39m\"\u001b[39m)\n",
            "File \u001b[1;32me:\\anaconda3\\envs\\aag-talp\\lib\\socket.py:704\u001b[0m, in \u001b[0;36mSocketIO.readinto\u001b[1;34m(self, b)\u001b[0m\n\u001b[0;32m    702\u001b[0m \u001b[39mwhile\u001b[39;00m \u001b[39mTrue\u001b[39;00m:\n\u001b[0;32m    703\u001b[0m     \u001b[39mtry\u001b[39;00m:\n\u001b[1;32m--> 704\u001b[0m         \u001b[39mreturn\u001b[39;00m \u001b[39mself\u001b[39;49m\u001b[39m.\u001b[39;49m_sock\u001b[39m.\u001b[39;49mrecv_into(b)\n\u001b[0;32m    705\u001b[0m     \u001b[39mexcept\u001b[39;00m timeout:\n\u001b[0;32m    706\u001b[0m         \u001b[39mself\u001b[39m\u001b[39m.\u001b[39m_timeout_occurred \u001b[39m=\u001b[39m \u001b[39mTrue\u001b[39;00m\n",
            "File \u001b[1;32me:\\anaconda3\\envs\\aag-talp\\lib\\ssl.py:1275\u001b[0m, in \u001b[0;36mSSLSocket.recv_into\u001b[1;34m(self, buffer, nbytes, flags)\u001b[0m\n\u001b[0;32m   1271\u001b[0m     \u001b[39mif\u001b[39;00m flags \u001b[39m!=\u001b[39m \u001b[39m0\u001b[39m:\n\u001b[0;32m   1272\u001b[0m         \u001b[39mraise\u001b[39;00m \u001b[39mValueError\u001b[39;00m(\n\u001b[0;32m   1273\u001b[0m           \u001b[39m\"\u001b[39m\u001b[39mnon-zero flags not allowed in calls to recv_into() on \u001b[39m\u001b[39m%s\u001b[39;00m\u001b[39m\"\u001b[39m \u001b[39m%\u001b[39m\n\u001b[0;32m   1274\u001b[0m           \u001b[39mself\u001b[39m\u001b[39m.\u001b[39m\u001b[39m__class__\u001b[39m)\n\u001b[1;32m-> 1275\u001b[0m     \u001b[39mreturn\u001b[39;00m \u001b[39mself\u001b[39;49m\u001b[39m.\u001b[39;49mread(nbytes, buffer)\n\u001b[0;32m   1276\u001b[0m \u001b[39melse\u001b[39;00m:\n\u001b[0;32m   1277\u001b[0m     \u001b[39mreturn\u001b[39;00m \u001b[39msuper\u001b[39m()\u001b[39m.\u001b[39mrecv_into(buffer, nbytes, flags)\n",
            "File \u001b[1;32me:\\anaconda3\\envs\\aag-talp\\lib\\ssl.py:1133\u001b[0m, in \u001b[0;36mSSLSocket.read\u001b[1;34m(self, len, buffer)\u001b[0m\n\u001b[0;32m   1131\u001b[0m \u001b[39mtry\u001b[39;00m:\n\u001b[0;32m   1132\u001b[0m     \u001b[39mif\u001b[39;00m buffer \u001b[39mis\u001b[39;00m \u001b[39mnot\u001b[39;00m \u001b[39mNone\u001b[39;00m:\n\u001b[1;32m-> 1133\u001b[0m         \u001b[39mreturn\u001b[39;00m \u001b[39mself\u001b[39;49m\u001b[39m.\u001b[39;49m_sslobj\u001b[39m.\u001b[39;49mread(\u001b[39mlen\u001b[39;49m, buffer)\n\u001b[0;32m   1134\u001b[0m     \u001b[39melse\u001b[39;00m:\n\u001b[0;32m   1135\u001b[0m         \u001b[39mreturn\u001b[39;00m \u001b[39mself\u001b[39m\u001b[39m.\u001b[39m_sslobj\u001b[39m.\u001b[39mread(\u001b[39mlen\u001b[39m)\n",
            "\u001b[1;31mKeyboardInterrupt\u001b[0m: "
          ]
        }
      ],
      "source": [
        "import pandas as pd\n",
        "import time\n",
        "def get_data_for_month(year, month, token, stations):\n",
        "    # Get start and finish dates\n",
        "    start_and_finish_dates = get_week_intervals(year, month)\n",
        "    skip_rows=len(stations)+4\n",
        "    # Initialize a list to store dataframes\n",
        "    dataframes = []\n",
        "    # Iterate through start and finish date pairs\n",
        "    for start_date, finish_date in start_and_finish_dates:\n",
        "        #print(start_date)\n",
        "        #print(finish_date)\n",
        "        # Build API URL\n",
        "        api_url = build_api_url(start_date, finish_date, token, stations)\n",
        "        # Call API to get dataframe\n",
        "        dataframe = call_api(api_url)\n",
        "        if skip_rows > 0 and len(dataframes) > 0 and not dataframe.empty:\n",
        "            dataframe = dataframe.iloc[skip_rows:]\n",
        "        if not dataframe.empty:\n",
        "            dataframes.append(dataframe)\n",
        "    # Concatenate dataframes\n",
        "    concatenated_dataframe = pd.concat(dataframes, ignore_index=True)\n",
        "\n",
        "    return concatenated_dataframe"
      ]
    },
    {
      "cell_type": "markdown",
      "metadata": {},
      "source": [
        "## Test recuperation de données sur 1 mois"
      ]
    },
    {
      "cell_type": "code",
      "execution_count": null,
      "metadata": {},
      "outputs": [],
      "source": [
        "# Example usage:\n",
        "year = 2019\n",
        "month = 11\n",
        "\n",
        "result_dataframe = get_data_for_month(year, month, api_token, stations)\n",
        "print(result_dataframe)"
      ]
    },
    {
      "cell_type": "code",
      "execution_count": null,
      "metadata": {
        "id": "xLLs09VDaxZT"
      },
      "outputs": [],
      "source": [
        "# Assuming result_dataframe is your DataFrame\n",
        "result_dataframe.to_csv('output_file.csv', index=False, encoding='utf-8-sig')"
      ]
    },
    {
      "cell_type": "markdown",
      "metadata": {},
      "source": [
        "# Kafka"
      ]
    },
    {
      "cell_type": "markdown",
      "metadata": {},
      "source": [
        "## Config Kafka"
      ]
    },
    {
      "cell_type": "code",
      "execution_count": null,
      "metadata": {},
      "outputs": [],
      "source": [
        "config = {}\n",
        "# Required connection configs for Kafka producer, consumer, and admin\n",
        "config[\"bootstrap.servers\"] = \"pkc-60py3.europe-west9.gcp.confluent.cloud:9092\"\n",
        "#bootstrap.servers=pkc-60py3.europe-west9.gcp.confluent.cloud:9092\n",
        "config[\"security.protocol\"] = \"SASL_SSL\"\n",
        "#security.protocol=SASL_SSL\n",
        "config[\"sasl.mechanisms\"] = \"PLAIN\"\n",
        "#sasl.mechanisms=PLAIN\n",
        "config[\"sasl.username\"] = \"2WQXJOQPDG2MWLJB\"\n",
        "#sasl.username=2WQXJOQPDG2MWLJB\n",
        "config[\"sasl.password\"] = \"N0wpBXjhU3cBEawVm5aX5Ql5IofNTvWf4+CEHQgz+F2sinER5J/p6OJZpFJs0Hd5\"\n",
        "#sasl.password=N0wpBXjhU3cBEawVm5aX5Ql5IofNTvWf4+CEHQgz+F2sinER5J/p6OJZpFJs0Hd5\n",
        "\n",
        "# Best practice for higher availability in librdkafka clients prior to 1.7\n",
        "config[\"session.timeout.ms\"] = \"45000\"\n",
        "#session.timeout.ms=45000\n",
        "\n",
        "\"\"\"\n",
        "\n",
        "# Required connection configs for Confluent Cloud Schema Registry\n",
        "schema.registry.url=https://psrc-j55zm.us-central1.gcp.confluent.cloud\n",
        "basic.auth.credentials.source=USER_INFO\n",
        "basic.auth.user.info={{ SR_API_KEY }}:{{ SR_API_SECRET }}\n",
        "\"\"\""
      ]
    },
    {
      "cell_type": "markdown",
      "metadata": {},
      "source": [
        "## Producer"
      ]
    },
    {
      "cell_type": "code",
      "execution_count": null,
      "metadata": {},
      "outputs": [],
      "source": [
        "producer = ck.Producer(config)\n",
        "producer.produce(\"mon_topic_demo\", key=\"test\", value=\"Fuck la co de la fack\")\n",
        "producer.poll(1)"
      ]
    }
  ],
  "metadata": {
    "colab": {
      "provenance": []
    },
    "kernelspec": {
      "display_name": "Python 3",
      "name": "python3"
    },
    "language_info": {
      "codemirror_mode": {
        "name": "ipython",
        "version": 3
      },
      "file_extension": ".py",
      "mimetype": "text/x-python",
      "name": "python",
      "nbconvert_exporter": "python",
      "pygments_lexer": "ipython3",
      "version": "3.9.18"
    }
  },
  "nbformat": 4,
  "nbformat_minor": 0
}
