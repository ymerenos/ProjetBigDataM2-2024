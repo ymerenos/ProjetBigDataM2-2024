{
  "cells": [
    {
      "cell_type": "code",
      "execution_count": null,
      "metadata": {
        "colab": {
          "base_uri": "https://localhost:8080/"
        },
        "id": "qkzs7T908tNj",
        "outputId": "a0935f37-e74b-42d6-f4b9-58373f29fd12"
      },
      "outputs": [
        {
          "name": "stdout",
          "output_type": "stream",
          "text": [
            "Requirement already satisfied: confluent-kafka in /usr/local/lib/python3.10/dist-packages (2.3.0)\n",
            "Requirement already satisfied: pyspark in /usr/local/lib/python3.10/dist-packages (3.5.0)\n",
            "Requirement already satisfied: py4j==0.10.9.7 in /usr/local/lib/python3.10/dist-packages (from pyspark) (0.10.9.7)\n",
            "Collecting pymongo\n",
            "  Downloading pymongo-4.6.0-cp310-cp310-manylinux_2_17_x86_64.manylinux2014_x86_64.whl (677 kB)\n",
            "\u001b[2K     \u001b[90m━━━━━━━━━━━━━━━━━━━━━━━━━━━━━━━━━━━━━━━━\u001b[0m \u001b[32m677.1/677.1 kB\u001b[0m \u001b[31m11.5 MB/s\u001b[0m eta \u001b[36m0:00:00\u001b[0m\n",
            "\u001b[?25hCollecting dnspython<3.0.0,>=1.16.0 (from pymongo)\n",
            "  Downloading dnspython-2.4.2-py3-none-any.whl (300 kB)\n",
            "\u001b[2K     \u001b[90m━━━━━━━━━━━━━━━━━━━━━━━━━━━━━━━━━━━━━━━━\u001b[0m \u001b[32m300.4/300.4 kB\u001b[0m \u001b[31m23.4 MB/s\u001b[0m eta \u001b[36m0:00:00\u001b[0m\n",
            "\u001b[?25hInstalling collected packages: dnspython, pymongo\n",
            "Successfully installed dnspython-2.4.2 pymongo-4.6.0\n"
          ]
        }
      ],
      "source": [
        "\"\"\"\n",
        "%pip install confluent-kafka\n",
        "%pip install pyspark\n",
        "%pip install pymongo\n",
        "%pip install requests\n",
        "\"\"\""
      ]
    },
    {
      "cell_type": "code",
      "execution_count": 31,
      "metadata": {
        "id": "rDocM4tD89Vv"
      },
      "outputs": [],
      "source": [
        "import confluent_kafka as ck\n",
        "import random\n",
        "import time"
      ]
    },
    {
      "cell_type": "code",
      "execution_count": 2,
      "metadata": {
        "colab": {
          "base_uri": "https://localhost:8080/",
          "height": 52
        },
        "id": "XN0D2T2FGJi8",
        "outputId": "54afa33c-0e10-4775-e2b4-3e8e524f2bb5"
      },
      "outputs": [
        {
          "data": {
            "text/plain": [
              "'\\n\\n# Required connection configs for Confluent Cloud Schema Registry\\nschema.registry.url=https://psrc-j55zm.us-central1.gcp.confluent.cloud\\nbasic.auth.credentials.source=USER_INFO\\nbasic.auth.user.info={{ SR_API_KEY }}:{{ SR_API_SECRET }}\\n'"
            ]
          },
          "execution_count": 2,
          "metadata": {},
          "output_type": "execute_result"
        }
      ],
      "source": [
        "config = {}\n",
        "# Required connection configs for Kafka producer, consumer, and admin\n",
        "config[\"bootstrap.servers\"] = \"pkc-60py3.europe-west9.gcp.confluent.cloud:9092\"\n",
        "#bootstrap.servers=pkc-60py3.europe-west9.gcp.confluent.cloud:9092\n",
        "config[\"security.protocol\"] = \"SASL_SSL\"\n",
        "#security.protocol=SASL_SSL\n",
        "config[\"sasl.mechanisms\"] = \"PLAIN\"\n",
        "#sasl.mechanisms=PLAIN\n",
        "config[\"sasl.username\"] = \"2WQXJOQPDG2MWLJB\"\n",
        "#sasl.username=2WQXJOQPDG2MWLJB\n",
        "config[\"sasl.password\"] = \"N0wpBXjhU3cBEawVm5aX5Ql5IofNTvWf4+CEHQgz+F2sinER5J/p6OJZpFJs0Hd5\"\n",
        "#sasl.password=N0wpBXjhU3cBEawVm5aX5Ql5IofNTvWf4+CEHQgz+F2sinER5J/p6OJZpFJs0Hd5\n",
        "\n",
        "# Best practice for higher availability in librdkafka clients prior to 1.7\n",
        "config[\"session.timeout.ms\"] = \"45000\"\n",
        "#session.timeout.ms=45000\n",
        "\n",
        "\"\"\"\n",
        "\n",
        "# Required connection configs for Confluent Cloud Schema Registry\n",
        "schema.registry.url=https://psrc-j55zm.us-central1.gcp.confluent.cloud\n",
        "basic.auth.credentials.source=USER_INFO\n",
        "basic.auth.user.info={{ SR_API_KEY }}:{{ SR_API_SECRET }}\n",
        "\"\"\""
      ]
    },
    {
      "cell_type": "code",
      "execution_count": 3,
      "metadata": {
        "colab": {
          "base_uri": "https://localhost:8080/"
        },
        "id": "AYTSVDpiHgEV",
        "outputId": "1cc4fd37-324b-450d-bd17-2add91eb357f"
      },
      "outputs": [
        {
          "data": {
            "text/plain": [
              "0"
            ]
          },
          "execution_count": 3,
          "metadata": {},
          "output_type": "execute_result"
        }
      ],
      "source": [
        "producer = ck.Producer(config)\n",
        "producer.produce(\"mon_topic_demo\", key=\"test\", value=\"Fuck la co de la fack\")\n",
        "producer.poll(1)"
      ]
    },
    {
      "cell_type": "code",
      "execution_count": 4,
      "metadata": {
        "colab": {
          "base_uri": "https://localhost:8080/"
        },
        "id": "usSvYgLDIBYc",
        "outputId": "09545faa-6825-4060-f0c6-0e47bc9c5a24"
      },
      "outputs": [
        {
          "name": "stdout",
          "output_type": "stream",
          "text": [
            "195.221.243.132\n"
          ]
        },
        {
          "name": "stderr",
          "output_type": "stream",
          "text": [
            "  % Total    % Received % Xferd  Average Speed   Time    Time     Time  Current\n",
            "                                 Dload  Upload   Total   Spent    Left  Speed\n",
            "\n",
            "  0     0    0     0    0     0      0      0 --:--:-- --:--:-- --:--:--     0\n",
            "100    15  100    15    0     0     57      0 --:--:-- --:--:-- --:--:--    58\n"
          ]
        }
      ],
      "source": [
        "!curl ipecho.net/plain"
      ]
    },
    {
      "cell_type": "code",
      "execution_count": 7,
      "metadata": {
        "colab": {
          "base_uri": "https://localhost:8080/"
        },
        "id": "7btMTiTR-KpV",
        "outputId": "9985edc1-5b0b-4889-f16b-63f2685bb817"
      },
      "outputs": [
        {
          "name": "stdout",
          "output_type": "stream",
          "text": [
            "https://www.infoclimat.fr/opendata/?method=get&format=csv&stations[]=07130&stations[]=ME099&stations[]=ME034&stations[]=07630&stations[]=000C4&stations[]=ME057&stations[]=07027&stations[]=000G3&stations[]=000WK&stations[]=000VJ&stations[]=07015&stations[]=ME126&stations[]=ME050&stations[]=07460&start=2023-11-06&end=2023-11-13&token=NBYaOmP98EHB7LkfojQY9PUrJVz2KcelxSF9e4rSJY3p0tNjzFw\n"
          ]
        }
      ],
      "source": [
        "\n",
        "import requests\n",
        "import csv\n",
        "from io import StringIO\n",
        "\n",
        "def build_api_url(start, end, token):\n",
        "    stations = ['07130', 'ME099', 'ME034', '07630', '000C4', 'ME057', '07027', '000G3', '000WK', '000VJ', '07015', 'ME126', 'ME050', '07460']\n",
        "    base_url = 'https://www.infoclimat.fr/opendata/?method=get&format=csv&'\n",
        "    stations_param = '&'.join([f'stations[]={station}' for station in stations])\n",
        "    date_param = f'start={start}&end={end}'\n",
        "    token_param = f'token={token}'\n",
        "    api_url = f'{base_url}{stations_param}&{date_param}&{token_param}'\n",
        "    return api_url\n",
        "\n",
        "# Example usage:\n",
        "start_date = '2023-11-06'\n",
        "end_date = '2023-11-13'\n",
        "api_token = 'NBYaOmP98EHB7LkfojQY9PUrJVz2KcelxSF9e4rSJY3p0tNjzFw'\n",
        "\n",
        "api_url = build_api_url(start_date, end_date, api_token)\n",
        "print(api_url)"
      ]
    },
    {
      "cell_type": "code",
      "execution_count": 14,
      "metadata": {
        "id": "oQkmtdE_GcD6"
      },
      "outputs": [
        {
          "name": "stdout",
          "output_type": "stream",
          "text": [
            "['Wrong ip address']\n",
            "https://www.infoclimat.fr/opendata/?method=get&format=csv&stations[]=07130&stations[]=ME099&stations[]=ME034&stations[]=07630&stations[]=000C4&stations[]=ME057&stations[]=07027&stations[]=000G3&stations[]=000WK&stations[]=000VJ&stations[]=07015&stations[]=ME126&stations[]=ME050&stations[]=07460&start=2023-11-06&end=2023-11-13&token=NBYaOmP98EHB7LkfojQY9PUrJVz2KcelxSF9e4rSJY3p0tNjzFw\n"
          ]
        }
      ],
      "source": [
        "def call_api(api_url):\n",
        "  # Make a GET request to the API\n",
        "  response = requests.get(api_url)\n",
        "\n",
        "  # Check if the request was successful (status code 200)\n",
        "  if response.status_code == 200:\n",
        "      try:\n",
        "          # Parse the CSV data using the csv module\n",
        "          csv_data = csv.reader(StringIO(response.text))\n",
        "          return csv_data\n",
        "      except Exception as e:\n",
        "          print(f\"Error decoding CSV: {e}\")\n",
        "  else:\n",
        "    # If the request was not successful, print the error code\n",
        "    print(f\"Error: {response.status_code}\")\n",
        "\n",
        "\n",
        "api_url = build_api_url(start_date, end_date, api_token)\n",
        "result = call_api(api_url)\n",
        "for row in result:\n",
        "  print(row)\n",
        "print(api_url)"
      ]
    },
    {
      "cell_type": "code",
      "execution_count": 26,
      "metadata": {
        "id": "gql5rI5EK3mY"
      },
      "outputs": [
        {
          "name": "stdout",
          "output_type": "stream",
          "text": [
            "['000NJ']\n"
          ]
        }
      ],
      "source": [
        "allStations = ['0222', '0220', '0219', '0218', '0217', '0216', '0215', '0213', '0212', '0211', '0208', '0206', '0204', '0203', '0202', '0201', '0200', '0198', '0196', '0193', '0192', '0191', '0190', '0189', '0188', '0186', '0185', '0184', '0183', '0182', '0181', '0180', '0179', '0178', '0172', '0170', '0167', '0166', 'ME153', '0165', '0164', '0162', '0151', '0149', '0147', 'ME152', '0145', '0144', '0142', '0171', '0141', '0139', '0138', 'ME151', '0136', '0134', '0133', '0131', '0129', '0128', '0126', '0125', '0124', '0123', '0122', '0120', '0118', '0117', '0116', '0115', '0114', '0111', '0109', '0108', '0107', '0106', '0105', '0103', '0102', '0101', '0100', '0099', '0098', '0097', '0096', '0095', '0092', '0091', '0093', '0224', '0087', '0086', '0085', '0082', '0079', '0076', '0075', '0074', '0073', '0070', '0068', '0067', '0066', '0065', '0063', '0062', '0061', '0059', '0058', '0055', '0054', '0053', '0052', '0051', '0050', '0048', '0047', '0046', '0044', '0039', '0038', '0037', '0036', '0035', '0032', '0031', '0030', '0029', '0027', '0024', '0023', '0022', '0021', '0016', '0015', '0012', '0011', '0072', '0010', '0009', '0007', '0006', '0005', '0002', '0001', '000ZX', '000ZW', '000ZV', '000ZU', '000ZT', '000ZS', '000ZR', '000ZQ', '000ZP', '0060', '000ZO', '000ZN', '000ZM', '000ZL', '000ZJ', '000ZK', '000ZI', '000ZH', '000ZG', '000ZF', '0205', '000ZE', '000ZB', '000YY', '000YW', '000YU', '0025', '000YO', '000YN', '000YM', '000YL', '000YK', '000YJ', '000YI', '000YH', '000YF', '000YE', '000YB', '000XZ', '000XY', '000XX', '000YX', '000XW', '000XR', '000XP', '000XO', '000XK', '0019', '000XJ', '000XI', '000XH', '000XF', '000YG', '000XE', '000XD', '000XB', '000XA', '000WZ', '000WY', '0013', '000YQ', '0071', '000WX', '000WW', '000WU', '000WN', '000WM', '000WL', '000WK', '000WJ', '000WI', '000WG', '000WF', '000WE', 'ME146', '000WD', '000WA', '000VY', '000VX', '000VW', '000VV', '000VT', '000VP', '000VN', '000VM', '000VL', '000VI', '000VF', '000VE', '000VC', '000UZ', '000UY', '000UW', '000UU', '000UT', '000US', '000UQ', '000UO', '000UN', '000UM', '000UL', '000UK', '000UJ', '000UI', '000UH', '000UF', '000UE', '000UB', '000UA', '000TZ', '000TY', '000TW', '000TS', '000TR', '000TQ', '000VJ', '000TO', '000TM', '000TL', '000TK', '000TJ', '000TG', '000TE', '000TD', '000TC', '000TB', '000TA', '000SZ', '000SY', '000SW', '000SU', '000ST', '000SS', '000SR', '000SP', '000SL', '000SK', '000SG', '000SF', '000SE', '000SD', '000SC', '000SB', '000RZ', '000RY', '000RX', '000RT', '000RS', '000RQ', '000RO', '000RM', '000RL', '000RK', '000RJ', '000RI', '000TU', '000RH', '000UC', '000SM', '000UD', '000TN', '000RG', '000RF', '000RE', '000RD', '000RC', '000RA', '000QZ', '000QY', '000RB', '000QX', '000QW', '000QT', '000QS', '000QR', '000QO', '000QN', '000QM', '000QJ', '000QI', '000QH', '000QG', '000QE', '000QD', '000QC', '000QB', '000QA', '000PZ', '000PY', '000PW', '000QF', '000PU', '000PT', '000PS', '000PQ', '000PP', '000PN', '000PM', '000PX', '000PL', '000PJ', '000PI', '000PH', '000PG', '000PA', '000OX', '000OZ', '000OU', '000OS', '000OR', '000OQ', '000OP', '000ON', '000OW', '000OM', '000OK', '000OJ', '000OI', '000OH', '000OG', 'ME139', '000OB', '000OA', '000NZ', '000NX', '000NW', '000NU', '000NT', '000NR', '000NQ', '000NM', '000NK', '000NJ', '000NI', '000NG', '000ND', '000NC', '000NB', '000MZ', '000MW', '000MV', '000MY', '000MS', '000MR', '000MQ', 'ME135', 'ME134', 'ME132', 'ME131', 'ME130', 'ME128', 'ME137', 'ME125', 'ME123', 'ME126', 'ME121', 'ME124', 'ME119', 'ME118', 'ME129', 'ME120', 'ME115', 'ME113', 'ME116', 'ME114', 'ME117', 'ME111', 'ME112', 'ME108', 'ME106', 'ME110', 'ME105', 'ME104', 'ME103', 'ME102', 'ME109', 'ME099', 'ME098', 'ME052', 'ME048', 'ME047', 'ME046', 'ME045', 'ME044', 'ME043', 'ME042', 'ME040', 'ME039', 'ME038', 'ME036', 'ME035', 'ME034', 'ME033', 'ME032', 'ME031', 'ME030', 'ME029', 'ME028', 'ME027', 'ME026', 'ME024', 'ME023', 'ME022', 'ME021', 'ME020', 'ME019', 'ME017', 'ME016', 'ME013', 'ME012', 'ME011', 'ME010', 'ME009', 'ME007', 'ME006', 'ME005', 'ME004', 'ME051', 'ME050', 'ME001', '000MP', 'ME014', '000MO', '000MN', '000ML', '000MK', '000MJ', '000MI', '000MT', '000MG', '000MF', '000MD', '000MB', '000MA', '000LZ', '000LY', '000LV', '000LU', '000LS', '000LR', '000LQ', '000LP', '000LO', '000LM', '000IK', '000IF', '000ID', '000IC', '000IB', '000IA', '000HT', '000HS', '000HO', '000HM', '000HJ', '000HH', '000HF', '000HB', '000GU', '000GT', '000GS', '000GR', '000GQ', '000GP', '000HC', '000GO', '000GN', '000GL', '000GK', '000GJ', '000GI', '000GF', '000GM', '000GC', '000FZ', '000FY', '000FX', '000FW', '000GB', '000FV', '000FU', '000FT', '000FS', '000FR', '000FP', '000FO', '000FN', '000FM', '000FL', '000FK', '000FI', '000FG', '000FE', '000FD', '000FC', '000FB', '000OT', '000FA', '000EW', '000EV', '000EU', '000EQ', '000EN', '000ET', '000II', '000EK', '000EI', '000EP', '000EG', '000ED', '000EC', '000EB', '000DZ', '000DX', '000DV', '000DS', '000DR', '000DQ', '000DP', '000HR', '000DN', '000DM', '000DJ', '000DI', '000DH', '000DF', '000DE', '000DD', '000DC', '000DB', '000CZ', '000CY', '000CX', '000CW', '000CV', '000CT', '000CR', '000CP', '000CO', '000CN', '000CM', '000CK', '000CJ', '000CI', '000CF', '000CE', '000CD', '000CC', '000CA', '000BZ', '000BY', '000BX', '000BV', '000BS', '000BO', '000BM', '000BI', '000BN', '000BG', '000BQ', '000BE', '000BB', '000BA', '000AX', '000AV', '000AS', '000AL', '000AK', '000AJ', '000AI', '000AH', '000AF', '000AD', '000AC', '000AB', '000AA', '000Z9', '000Z7', '000Z6', '000Z4', '000Z1', '000Z0', '000Y5', '000Y3', '000VB', '000AU', '000X8', '000X6', '000X5', '000X4', '000X3', '000X2', '000X1', '000X0', '000W9', '000W8', '000W7', '000Y4', '000W6', '000W5', '000DA', '000W2', '000W1', '000V6', '0132', '000V4', '000V3', '000V2', '000V0', '000U7', '000U6', '000U4', '000U3', '000QU', '000U1', '000U0', '000T8', '000T9', '000T6', '000T5', '000T3', '000T1', '000T0', '000S9', '000S8', '000S6', '000S3', '000S2', '000S4', '000S1', '000S0', '000R6', '000R5', '000R4', '000R3', '000R2', '000R1', '000Q8', '000Q6', '000Q4', '000Q2', '000P9', '000P8', '000P6', '000P4', '000P2', '000P1', '000O9', '000O8', '000O7', '000O5', '000O4', '000O3', '000O2', '000N9', '000N4', '000N3', '000Q7', '000M7', '000M6', '000M4', '000M2', '000L9', '000L7', '000L5', '000L3', '000Q3', '000P7', '000L2', '000L1', '000K7', '000K6', '000K5', '000K4', '000K2', '000K1', '000K0', '000J9', '000J8', '000J4', '000I7', '000J2', '000I9', '000I6', '000I5', '000I4', '000E8', '000E7', '000K3', '000E2', '000E0', '000I2', '000I1', '000H9', '000H8', '000H6', '000H4', '000G7', '000G6', '000G4', '000G3', '000G2', '000G1', '000F8', '000F7', '000F4', '000D8', '000F3', '000BP', '000D5', '000D2', '000D3', '000C9', '000C6', '000C5', '000C7', '000B8', '000B9', '000C1', '000C0', '000B5', '000B6', '000B4', '000B3', '000B0', '000A9', '000A5', '000A6', '000A3', '000A1', '00099', '00098', '00096', '00095', '00094', '00092', '00091', '00089', '00088', '00086', '00080', '00081', '00076', '00074', '00072', '00070', '00065', '00061', '00063', '00060', '00053', '00059', '00054', '00052', '00051', '00049', '00047', '00042', '00041', '00038', '00035', '00033', '00032', '00029', '00025', '00023', '00001', '00018', '00014', '00010', '00009', '000J1', '000VQ', '00004', '00002', 'VENTOUX', '07747', '07650', '07643', '07630', '07627', '07621', '07607', '07591', '07577', '07558', '07535', '07510', '07481', '07471', '07460', '07434', '07335', '07314', '07299', '07280', '07255', '07240', '07222', '07207', '07190', '07181', '07168', '07149', '07139', '07130', '07117', '07110', '07070', '07037', '07027', '07020', '07015', '07005', '000WT', '0113', '0056', '0008', '000TP', '000OO', 'ME107', 'ME025', 'ME008', '000EO', '000CL', '000BU', '000Y9', '000X9', '000U9', '000Q9', '000N6', '000M9', '000M8', '000L4', '000J6', '000J0', '00093', '00075', '00057', '00003', '07661', '000BL', '000C4', '000NP', '000AY', 'ME003', '000Z8', '0148', '000NH', '000V7', '000SH', '000EF', '000WB', 'ME101', '0175', '0174', '0146', 'CAYOLLE', 'ENTRAUNES', '0033', '000ZC', '000YZ', '000XN', '000TX', '000SN', '000PK', '000NL', 'ME015', '000HL', '000HD', '000GH', '000GG', '000GD', '07690', '000UX', '000QV', '000U2', '000ZA', '000SX', '0014', 'ME136', 'ME049', '000XM', '000MX', '000Y1', '000EH', '000YD', '000NF', 'ME138', '000PO', '0084', '0069', '000SO', '000AE', '000N5', '00027', '00015', '07790', '000RN', '0194', '07761', 'ME018', 'ME057', '000CU']\n",
        "#function to get random stations in a range as parameter\n",
        "def get_random_stations(n):\n",
        "  return random.sample(allStations, n)\n",
        "print(get_random_stations(1))\n"
      ]
    },
    {
      "cell_type": "code",
      "execution_count": 29,
      "metadata": {
        "colab": {
          "base_uri": "https://localhost:8080/"
        },
        "id": "agf9snrvILws",
        "outputId": "aebf0e59-6c79-4693-a8b2-6fa45a78e84e"
      },
      "outputs": [
        {
          "name": "stdout",
          "output_type": "stream",
          "text": [
            "https://www.infoclimat.fr/opendata/?method=get&format=csv&stations[]=0222&stations[]=0220&stations[]=0219&stations[]=0218&stations[]=0217&stations[]=0216&stations[]=0215&stations[]=0213&stations[]=0212&stations[]=0211&stations[]=0208&stations[]=0206&stations[]=0204&stations[]=0203&stations[]=0202&stations[]=0201&stations[]=0200&stations[]=0198&stations[]=0196&stations[]=0193&stations[]=0192&stations[]=0191&stations[]=0190&stations[]=0189&stations[]=0188&stations[]=0186&stations[]=0185&stations[]=0184&stations[]=0183&stations[]=0182&stations[]=0181&stations[]=0180&stations[]=0179&stations[]=0178&stations[]=0172&stations[]=0170&stations[]=0167&stations[]=0166&stations[]=ME153&stations[]=0165&stations[]=0164&stations[]=0162&stations[]=0151&stations[]=0149&stations[]=0147&stations[]=ME152&stations[]=0145&stations[]=0144&stations[]=0142&stations[]=0171&stations[]=0141&stations[]=0139&stations[]=0138&stations[]=ME151&stations[]=0136&stations[]=0134&stations[]=0133&stations[]=0131&stations[]=0129&stations[]=0128&stations[]=0126&stations[]=0125&stations[]=0124&stations[]=0123&stations[]=0122&stations[]=0120&stations[]=0118&stations[]=0117&stations[]=0116&stations[]=0115&stations[]=0114&stations[]=0111&stations[]=0109&stations[]=0108&stations[]=0107&stations[]=0106&stations[]=0105&stations[]=0103&stations[]=0102&stations[]=0101&stations[]=0100&stations[]=0099&stations[]=0098&stations[]=0097&stations[]=0096&stations[]=0095&stations[]=0092&stations[]=0091&stations[]=0093&stations[]=0224&stations[]=0087&stations[]=0086&stations[]=0085&stations[]=0082&stations[]=0079&stations[]=0076&stations[]=0075&stations[]=0074&stations[]=0073&stations[]=0070&stations[]=0068&stations[]=0067&stations[]=0066&stations[]=0065&stations[]=0063&stations[]=0062&stations[]=0061&stations[]=0059&stations[]=0058&stations[]=0055&stations[]=0054&stations[]=0053&stations[]=0052&stations[]=0051&stations[]=0050&stations[]=0048&stations[]=0047&stations[]=0046&stations[]=0044&stations[]=0039&stations[]=0038&stations[]=0037&stations[]=0036&stations[]=0035&stations[]=0032&stations[]=0031&stations[]=0030&stations[]=0029&stations[]=0027&stations[]=0024&stations[]=0023&stations[]=0022&stations[]=0021&stations[]=0016&stations[]=0015&stations[]=0012&stations[]=0011&stations[]=0072&stations[]=0010&stations[]=0009&stations[]=0007&stations[]=0006&stations[]=0005&stations[]=0002&stations[]=0001&stations[]=000ZX&stations[]=000ZW&stations[]=000ZV&stations[]=000ZU&stations[]=000ZT&stations[]=000ZS&stations[]=000ZR&stations[]=000ZQ&stations[]=000ZP&stations[]=0060&stations[]=000ZO&stations[]=000ZN&stations[]=000ZM&stations[]=000ZL&stations[]=000ZJ&stations[]=000ZK&stations[]=000ZI&stations[]=000ZH&stations[]=000ZG&stations[]=000ZF&stations[]=0205&stations[]=000ZE&stations[]=000ZB&stations[]=000YY&stations[]=000YW&stations[]=000YU&stations[]=0025&stations[]=000YO&stations[]=000YN&stations[]=000YM&stations[]=000YL&stations[]=000YK&stations[]=000YJ&stations[]=000YI&stations[]=000YH&stations[]=000YF&stations[]=000YE&stations[]=000YB&stations[]=000XZ&stations[]=000XY&stations[]=000XX&stations[]=000YX&stations[]=000XW&stations[]=000XR&stations[]=000XP&stations[]=000XO&stations[]=000XK&stations[]=0019&stations[]=000XJ&stations[]=000XI&stations[]=000XH&stations[]=000XF&stations[]=000YG&stations[]=000XE&stations[]=000XD&stations[]=000XB&stations[]=000XA&stations[]=000WZ&stations[]=000WY&stations[]=0013&stations[]=000YQ&stations[]=0071&stations[]=000WX&stations[]=000WW&stations[]=000WU&stations[]=000WN&stations[]=000WM&stations[]=000WL&stations[]=000WK&stations[]=000WJ&stations[]=000WI&stations[]=000WG&stations[]=000WF&stations[]=000WE&stations[]=ME146&stations[]=000WD&stations[]=000WA&stations[]=000VY&stations[]=000VX&stations[]=000VW&stations[]=000VV&stations[]=000VT&stations[]=000VP&stations[]=000VN&stations[]=000VM&stations[]=000VL&stations[]=000VI&stations[]=000VF&stations[]=000VE&stations[]=000VC&stations[]=000UZ&stations[]=000UY&stations[]=000UW&stations[]=000UU&stations[]=000UT&stations[]=000US&stations[]=000UQ&stations[]=000UO&stations[]=000UN&stations[]=000UM&stations[]=000UL&stations[]=000UK&stations[]=000UJ&stations[]=000UI&stations[]=000UH&stations[]=000UF&stations[]=000UE&stations[]=000UB&stations[]=000UA&stations[]=000TZ&stations[]=000TY&stations[]=000TW&stations[]=000TS&stations[]=000TR&stations[]=000TQ&stations[]=000VJ&stations[]=000TO&stations[]=000TM&stations[]=000TL&stations[]=000TK&stations[]=000TJ&stations[]=000TG&stations[]=000TE&stations[]=000TD&stations[]=000TC&stations[]=000TB&stations[]=000TA&stations[]=000SZ&stations[]=000SY&stations[]=000SW&stations[]=000SU&stations[]=000ST&stations[]=000SS&stations[]=000SR&stations[]=000SP&stations[]=000SL&stations[]=000SK&stations[]=000SG&stations[]=000SF&stations[]=000SE&stations[]=000SD&stations[]=000SC&stations[]=000SB&stations[]=000RZ&stations[]=000RY&stations[]=000RX&stations[]=000RT&stations[]=000RS&stations[]=000RQ&stations[]=000RO&stations[]=000RM&stations[]=000RL&stations[]=000RK&stations[]=000RJ&stations[]=000RI&stations[]=000TU&stations[]=000RH&stations[]=000UC&stations[]=000SM&stations[]=000UD&stations[]=000TN&stations[]=000RG&stations[]=000RF&stations[]=000RE&stations[]=000RD&stations[]=000RC&stations[]=000RA&stations[]=000QZ&stations[]=000QY&stations[]=000RB&stations[]=000QX&stations[]=000QW&stations[]=000QT&stations[]=000QS&stations[]=000QR&stations[]=000QO&stations[]=000QN&stations[]=000QM&stations[]=000QJ&stations[]=000QI&stations[]=000QH&stations[]=000QG&stations[]=000QE&stations[]=000QD&stations[]=000QC&stations[]=000QB&stations[]=000QA&stations[]=000PZ&stations[]=000PY&stations[]=000PW&stations[]=000QF&stations[]=000PU&stations[]=000PT&stations[]=000PS&stations[]=000PQ&stations[]=000PP&stations[]=000PN&stations[]=000PM&stations[]=000PX&stations[]=000PL&stations[]=000PJ&stations[]=000PI&stations[]=000PH&stations[]=000PG&stations[]=000PA&stations[]=000OX&stations[]=000OZ&stations[]=000OU&stations[]=000OS&stations[]=000OR&stations[]=000OQ&stations[]=000OP&stations[]=000ON&stations[]=000OW&stations[]=000OM&stations[]=000OK&stations[]=000OJ&stations[]=000OI&stations[]=000OH&stations[]=000OG&stations[]=ME139&stations[]=000OB&stations[]=000OA&stations[]=000NZ&stations[]=000NX&stations[]=000NW&stations[]=000NU&stations[]=000NT&stations[]=000NR&stations[]=000NQ&stations[]=000NM&stations[]=000NK&stations[]=000NJ&stations[]=000NI&stations[]=000NG&stations[]=000ND&stations[]=000NC&stations[]=000NB&stations[]=000MZ&stations[]=000MW&stations[]=000MV&stations[]=000MY&stations[]=000MS&stations[]=000MR&stations[]=000MQ&stations[]=ME135&stations[]=ME134&stations[]=ME132&stations[]=ME131&stations[]=ME130&stations[]=ME128&stations[]=ME137&stations[]=ME125&stations[]=ME123&stations[]=ME126&stations[]=ME121&stations[]=ME124&stations[]=ME119&stations[]=ME118&stations[]=ME129&stations[]=ME120&stations[]=ME115&stations[]=ME113&stations[]=ME116&stations[]=ME114&stations[]=ME117&stations[]=ME111&stations[]=ME112&stations[]=ME108&stations[]=ME106&stations[]=ME110&stations[]=ME105&stations[]=ME104&stations[]=ME103&stations[]=ME102&stations[]=ME109&stations[]=ME099&stations[]=ME098&stations[]=ME052&stations[]=ME048&stations[]=ME047&stations[]=ME046&stations[]=ME045&stations[]=ME044&stations[]=ME043&stations[]=ME042&stations[]=ME040&stations[]=ME039&stations[]=ME038&stations[]=ME036&stations[]=ME035&stations[]=ME034&stations[]=ME033&stations[]=ME032&stations[]=ME031&stations[]=ME030&stations[]=ME029&stations[]=ME028&stations[]=ME027&stations[]=ME026&stations[]=ME024&stations[]=ME023&stations[]=ME022&stations[]=ME021&stations[]=ME020&stations[]=ME019&stations[]=ME017&stations[]=ME016&stations[]=ME013&stations[]=ME012&stations[]=ME011&stations[]=ME010&stations[]=ME009&stations[]=ME007&stations[]=ME006&stations[]=ME005&stations[]=ME004&stations[]=ME051&stations[]=ME050&stations[]=ME001&stations[]=000MP&stations[]=ME014&stations[]=000MO&stations[]=000MN&stations[]=000ML&stations[]=000MK&stations[]=000MJ&stations[]=000MI&stations[]=000MT&stations[]=000MG&stations[]=000MF&stations[]=000MD&stations[]=000MB&stations[]=000MA&stations[]=000LZ&stations[]=000LY&stations[]=000LV&stations[]=000LU&stations[]=000LS&stations[]=000LR&stations[]=000LQ&stations[]=000LP&stations[]=000LO&stations[]=000LM&stations[]=000IK&stations[]=000IF&stations[]=000ID&stations[]=000IC&stations[]=000IB&stations[]=000IA&stations[]=000HT&stations[]=000HS&stations[]=000HO&stations[]=000HM&stations[]=000HJ&stations[]=000HH&stations[]=000HF&stations[]=000HB&stations[]=000GU&stations[]=000GT&stations[]=000GS&stations[]=000GR&stations[]=000GQ&stations[]=000GP&stations[]=000HC&stations[]=000GO&stations[]=000GN&stations[]=000GL&stations[]=000GK&stations[]=000GJ&stations[]=000GI&stations[]=000GF&stations[]=000GM&stations[]=000GC&stations[]=000FZ&stations[]=000FY&stations[]=000FX&stations[]=000FW&stations[]=000GB&stations[]=000FV&stations[]=000FU&stations[]=000FT&stations[]=000FS&stations[]=000FR&stations[]=000FP&stations[]=000FO&stations[]=000FN&stations[]=000FM&stations[]=000FL&stations[]=000FK&stations[]=000FI&stations[]=000FG&stations[]=000FE&stations[]=000FD&stations[]=000FC&stations[]=000FB&stations[]=000OT&stations[]=000FA&stations[]=000EW&stations[]=000EV&stations[]=000EU&stations[]=000EQ&stations[]=000EN&stations[]=000ET&stations[]=000II&stations[]=000EK&stations[]=000EI&stations[]=000EP&stations[]=000EG&stations[]=000ED&stations[]=000EC&stations[]=000EB&stations[]=000DZ&stations[]=000DX&stations[]=000DV&stations[]=000DS&stations[]=000DR&stations[]=000DQ&stations[]=000DP&stations[]=000HR&stations[]=000DN&stations[]=000DM&stations[]=000DJ&stations[]=000DI&stations[]=000DH&stations[]=000DF&stations[]=000DE&stations[]=000DD&stations[]=000DC&stations[]=000DB&stations[]=000CZ&stations[]=000CY&stations[]=000CX&stations[]=000CW&stations[]=000CV&stations[]=000CT&stations[]=000CR&stations[]=000CP&stations[]=000CO&stations[]=000CN&stations[]=000CM&stations[]=000CK&stations[]=000CJ&stations[]=000CI&stations[]=000CF&stations[]=000CE&stations[]=000CD&stations[]=000CC&stations[]=000CA&stations[]=000BZ&stations[]=000BY&stations[]=000BX&stations[]=000BV&stations[]=000BS&stations[]=000BO&stations[]=000BM&stations[]=000BI&stations[]=000BN&stations[]=000BG&stations[]=000BQ&stations[]=000BE&stations[]=000BB&stations[]=000BA&stations[]=000AX&stations[]=000AV&stations[]=000AS&stations[]=000AL&stations[]=000AK&stations[]=000AJ&stations[]=000AI&stations[]=000AH&stations[]=000AF&stations[]=000AD&stations[]=000AC&stations[]=000AB&stations[]=000AA&stations[]=000Z9&stations[]=000Z7&stations[]=000Z6&stations[]=000Z4&stations[]=000Z1&stations[]=000Z0&stations[]=000Y5&stations[]=000Y3&stations[]=000VB&stations[]=000AU&stations[]=000X8&stations[]=000X6&stations[]=000X5&stations[]=000X4&stations[]=000X3&stations[]=000X2&stations[]=000X1&stations[]=000X0&stations[]=000W9&stations[]=000W8&stations[]=000W7&stations[]=000Y4&stations[]=000W6&stations[]=000W5&stations[]=000DA&stations[]=000W2&stations[]=000W1&stations[]=000V6&stations[]=0132&stations[]=000V4&stations[]=000V3&stations[]=000V2&stations[]=000V0&stations[]=000U7&stations[]=000U6&stations[]=000U4&stations[]=000U3&stations[]=000QU&stations[]=000U1&stations[]=000U0&stations[]=000T8&stations[]=000T9&stations[]=000T6&stations[]=000T5&stations[]=000T3&stations[]=000T1&stations[]=000T0&stations[]=000S9&stations[]=000S8&stations[]=000S6&stations[]=000S3&stations[]=000S2&stations[]=000S4&stations[]=000S1&stations[]=000S0&stations[]=000R6&stations[]=000R5&stations[]=000R4&stations[]=000R3&stations[]=000R2&stations[]=000R1&stations[]=000Q8&stations[]=000Q6&stations[]=000Q4&stations[]=000Q2&stations[]=000P9&stations[]=000P8&stations[]=000P6&stations[]=000P4&stations[]=000P2&stations[]=000P1&stations[]=000O9&stations[]=000O8&stations[]=000O7&stations[]=000O5&stations[]=000O4&stations[]=000O3&stations[]=000O2&stations[]=000N9&stations[]=000N4&stations[]=000N3&stations[]=000Q7&stations[]=000M7&stations[]=000M6&stations[]=000M4&stations[]=000M2&stations[]=000L9&stations[]=000L7&stations[]=000L5&stations[]=000L3&stations[]=000Q3&stations[]=000P7&stations[]=000L2&stations[]=000L1&stations[]=000K7&stations[]=000K6&stations[]=000K5&stations[]=000K4&stations[]=000K2&stations[]=000K1&stations[]=000K0&stations[]=000J9&stations[]=000J8&stations[]=000J4&stations[]=000I7&stations[]=000J2&stations[]=000I9&stations[]=000I6&stations[]=000I5&stations[]=000I4&stations[]=000E8&stations[]=000E7&stations[]=000K3&stations[]=000E2&stations[]=000E0&stations[]=000I2&stations[]=000I1&stations[]=000H9&stations[]=000H8&stations[]=000H6&stations[]=000H4&stations[]=000G7&stations[]=000G6&stations[]=000G4&stations[]=000G3&stations[]=000G2&stations[]=000G1&stations[]=000F8&stations[]=000F7&stations[]=000F4&stations[]=000D8&stations[]=000F3&stations[]=000BP&stations[]=000D5&stations[]=000D2&stations[]=000D3&stations[]=000C9&stations[]=000C6&stations[]=000C5&stations[]=000C7&stations[]=000B8&stations[]=000B9&stations[]=000C1&stations[]=000C0&stations[]=000B5&stations[]=000B6&stations[]=000B4&stations[]=000B3&stations[]=000B0&stations[]=000A9&stations[]=000A5&stations[]=000A6&stations[]=000A3&stations[]=000A1&stations[]=00099&stations[]=00098&stations[]=00096&stations[]=00095&stations[]=00094&stations[]=00092&stations[]=00091&stations[]=00089&stations[]=00088&stations[]=00086&stations[]=00080&stations[]=00081&stations[]=00076&stations[]=00074&stations[]=00072&stations[]=00070&stations[]=00065&stations[]=00061&stations[]=00063&stations[]=00060&stations[]=00053&stations[]=00059&stations[]=00054&stations[]=00052&stations[]=00051&stations[]=00049&stations[]=00047&stations[]=00042&stations[]=00041&stations[]=00038&stations[]=00035&stations[]=00033&stations[]=00032&stations[]=00029&stations[]=00025&stations[]=00023&stations[]=00001&stations[]=00018&stations[]=00014&stations[]=00010&stations[]=00009&stations[]=000J1&stations[]=000VQ&stations[]=00004&stations[]=00002&stations[]=VENTOUX&stations[]=07747&stations[]=07650&stations[]=07643&stations[]=07630&stations[]=07627&stations[]=07621&stations[]=07607&stations[]=07591&stations[]=07577&stations[]=07558&stations[]=07535&stations[]=07510&stations[]=07481&stations[]=07471&stations[]=07460&stations[]=07434&stations[]=07335&stations[]=07314&stations[]=07299&stations[]=07280&stations[]=07255&stations[]=07240&stations[]=07222&stations[]=07207&stations[]=07190&stations[]=07181&stations[]=07168&stations[]=07149&stations[]=07139&stations[]=07130&stations[]=07117&stations[]=07110&stations[]=07070&stations[]=07037&stations[]=07027&stations[]=07020&stations[]=07015&stations[]=07005&stations[]=000WT&stations[]=0113&stations[]=0056&stations[]=0008&stations[]=000TP&stations[]=000OO&stations[]=ME107&stations[]=ME025&stations[]=ME008&stations[]=000EO&stations[]=000CL&stations[]=000BU&stations[]=000Y9&stations[]=000X9&stations[]=000U9&stations[]=000Q9&stations[]=000N6&stations[]=000M9&stations[]=000M8&stations[]=000L4&stations[]=000J6&stations[]=000J0&stations[]=00093&stations[]=00075&stations[]=00057&stations[]=00003&stations[]=07661&stations[]=000BL&stations[]=000C4&stations[]=000NP&stations[]=000AY&stations[]=ME003&stations[]=000Z8&stations[]=0148&stations[]=000NH&stations[]=000V7&stations[]=000SH&stations[]=000EF&stations[]=000WB&stations[]=ME101&stations[]=0175&stations[]=0174&stations[]=0146&stations[]=CAYOLLE&stations[]=ENTRAUNES&stations[]=0033&stations[]=000ZC&stations[]=000YZ&stations[]=000XN&stations[]=000TX&stations[]=000SN&stations[]=000PK&stations[]=000NL&stations[]=ME015&stations[]=000HL&stations[]=000HD&stations[]=000GH&stations[]=000GG&stations[]=000GD&stations[]=07690&stations[]=000UX&stations[]=000QV&stations[]=000U2&stations[]=000ZA&stations[]=000SX&stations[]=0014&stations[]=ME136&stations[]=ME049&stations[]=000XM&stations[]=000MX&stations[]=000Y1&stations[]=000EH&stations[]=000YD&stations[]=000NF&stations[]=ME138&stations[]=000PO&stations[]=0084&stations[]=0069&stations[]=000SO&stations[]=000AE&stations[]=000N5&stations[]=00027&stations[]=00015&stations[]=07790&stations[]=000RN&stations[]=0194&stations[]=07761&stations[]=ME018&stations[]=ME057&stations[]=000CU&start=2023-11-06&end=2023-11-13&token=NBYaOmP98EHB7LkfojQY9PUrJVz2KcelxSF9e4rSJY3p0tNjzFw\n"
          ]
        }
      ],
      "source": [
        "import requests\n",
        "import csv\n",
        "from io import StringIO\n",
        "\n",
        "def build_api_url_station(start, end, token, stations):\n",
        "    base_url = 'https://www.infoclimat.fr/opendata/?method=get&format=csv&'\n",
        "    stations_param = '&'.join([f'stations[]={station}' for station in stations])\n",
        "    date_param = f'start={start}&end={end}'\n",
        "    token_param = f'token={token}'\n",
        "    api_url = f'{base_url}{stations_param}&{date_param}&{token_param}'\n",
        "    return api_url\n",
        "\n",
        "# Example usage:\n",
        "start_date = '2023-11-06'\n",
        "end_date = '2023-11-13'\n",
        "api_token = 'NBYaOmP98EHB7LkfojQY9PUrJVz2KcelxSF9e4rSJY3p0tNjzFw'\n",
        "\n",
        "api_url = build_api_url_station(start_date, end_date, api_token,allStations)\n",
        "print(api_url)"
      ]
    },
    {
      "cell_type": "code",
      "execution_count": 34,
      "metadata": {},
      "outputs": [
        {
          "name": "stdout",
          "output_type": "stream",
          "text": [
            "0 \n",
            "['Wrong ip address']\n",
            "1 \n",
            "['Wrong ip address']\n",
            "2 \n",
            "['Wrong ip address']\n",
            "3 \n",
            "['Wrong ip address']\n",
            "4 \n",
            "['Wrong ip address']\n",
            "5 \n",
            "['Wrong ip address']\n",
            "6 \n",
            "['Wrong ip address']\n",
            "7 \n",
            "['Wrong ip address']\n",
            "8 \n",
            "['Wrong ip address']\n",
            "9 \n",
            "['Wrong ip address']\n",
            "10 \n",
            "['Wrong ip address']\n",
            "11 \n",
            "['Wrong ip address']\n",
            "12 \n",
            "['Wrong ip address']\n",
            "13 \n",
            "['Wrong ip address']\n",
            "14 \n",
            "['Wrong ip address']\n",
            "15 \n",
            "['Wrong ip address']\n",
            "16 \n",
            "['Wrong ip address']\n",
            "17 \n",
            "['Wrong ip address']\n",
            "18 \n",
            "['Wrong ip address']\n",
            "19 \n",
            "['Wrong ip address']\n",
            "20 \n",
            "['Wrong ip address']\n",
            "21 \n",
            "['Wrong ip address']\n",
            "22 \n",
            "['Wrong ip address']\n",
            "23 \n",
            "['Wrong ip address']\n",
            "24 \n",
            "['Wrong ip address']\n",
            "25 \n",
            "['Wrong ip address']\n",
            "26 \n",
            "['Wrong ip address']\n",
            "27 \n",
            "['Wrong ip address']\n",
            "28 \n",
            "['Wrong ip address']\n",
            "29 \n",
            "['Wrong ip address']\n",
            "30 \n",
            "['Wrong ip address']\n",
            "31 \n",
            "['Wrong ip address']\n",
            "32 \n",
            "['Wrong ip address']\n",
            "33 \n",
            "['Wrong ip address']\n",
            "34 \n",
            "['Wrong ip address']\n",
            "35 \n",
            "['Wrong ip address']\n",
            "36 \n",
            "['Wrong ip address']\n",
            "37 \n",
            "['Wrong ip address']\n",
            "38 \n",
            "['Wrong ip address']\n",
            "39 \n",
            "['Wrong ip address']\n",
            "40 \n",
            "['Wrong ip address']\n",
            "41 \n",
            "['Wrong ip address']\n",
            "42 \n",
            "['Wrong ip address']\n",
            "43 \n",
            "['Wrong ip address']\n",
            "44 \n",
            "['Wrong ip address']\n",
            "45 \n",
            "['Wrong ip address']\n",
            "46 \n",
            "['Wrong ip address']\n",
            "47 \n",
            "['Wrong ip address']\n",
            "48 \n",
            "['Wrong ip address']\n"
          ]
        },
        {
          "ename": "KeyboardInterrupt",
          "evalue": "",
          "output_type": "error",
          "traceback": [
            "\u001b[1;31m---------------------------------------------------------------------------\u001b[0m",
            "\u001b[1;31mKeyboardInterrupt\u001b[0m                         Traceback (most recent call last)",
            "\u001b[1;32mc:\\Users\\Galla\\Downloads\\BigData.ipynb Cell 10\u001b[0m line \u001b[0;36m8\n\u001b[0;32m      <a href='vscode-notebook-cell:/c%3A/Users/Galla/Downloads/BigData.ipynb#X13sZmlsZQ%3D%3D?line=5'>6</a>\u001b[0m \u001b[39mfor\u001b[39;00m row \u001b[39min\u001b[39;00m result:\n\u001b[0;32m      <a href='vscode-notebook-cell:/c%3A/Users/Galla/Downloads/BigData.ipynb#X13sZmlsZQ%3D%3D?line=6'>7</a>\u001b[0m     \u001b[39mprint\u001b[39m(row)\n\u001b[1;32m----> <a href='vscode-notebook-cell:/c%3A/Users/Galla/Downloads/BigData.ipynb#X13sZmlsZQ%3D%3D?line=7'>8</a>\u001b[0m time\u001b[39m.\u001b[39msleep(\u001b[39m5\u001b[39m)\n",
            "\u001b[1;31mKeyboardInterrupt\u001b[0m: "
          ]
        }
      ],
      "source": [
        "for i in range(48,100):\n",
        "    print(str(i) + \" \")\n",
        "    stations = get_random_stations(i)\n",
        "    url = build_api_url_station('2023-11-06','2023-11-13','NBYaOmP98EHB7LkfojQY9PUrJVz2KcelxSF9e4rSJY3p0tNjzFw',stations)\n",
        "    result = call_api(url)\n",
        "    for row in result:\n",
        "        print(row)\n",
        "    time.sleep(5)"
      ]
    },
    {
      "cell_type": "code",
      "execution_count": null,
      "metadata": {},
      "outputs": [],
      "source": []
    }
  ],
  "metadata": {
    "colab": {
      "provenance": []
    },
    "kernelspec": {
      "display_name": "Python 3",
      "name": "python3"
    },
    "language_info": {
      "codemirror_mode": {
        "name": "ipython",
        "version": 3
      },
      "file_extension": ".py",
      "mimetype": "text/x-python",
      "name": "python",
      "nbconvert_exporter": "python",
      "pygments_lexer": "ipython3",
      "version": "3.11.5"
    }
  },
  "nbformat": 4,
  "nbformat_minor": 0
}
