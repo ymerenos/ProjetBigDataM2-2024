{
  "cells": [
    {
      "cell_type": "code",
      "execution_count": null,
      "metadata": {
        "colab": {
          "base_uri": "https://localhost:8080/"
        },
        "id": "qkzs7T908tNj",
        "outputId": "705f2064-bda9-4ff0-db36-1fddde6ad10e"
      },
      "outputs": [
        {
          "output_type": "stream",
          "name": "stdout",
          "text": [
            "Collecting confluent-kafka\n",
            "  Downloading confluent_kafka-2.3.0-cp310-cp310-manylinux_2_17_x86_64.manylinux2014_x86_64.whl (4.0 MB)\n",
            "\u001b[2K     \u001b[90m━━━━━━━━━━━━━━━━━━━━━━━━━━━━━━━━━━━━━━━━\u001b[0m \u001b[32m4.0/4.0 MB\u001b[0m \u001b[31m10.8 MB/s\u001b[0m eta \u001b[36m0:00:00\u001b[0m\n",
            "\u001b[?25hInstalling collected packages: confluent-kafka\n",
            "Successfully installed confluent-kafka-2.3.0\n",
            "Collecting pyspark\n",
            "  Downloading pyspark-3.5.0.tar.gz (316.9 MB)\n",
            "\u001b[2K     \u001b[90m━━━━━━━━━━━━━━━━━━━━━━━━━━━━━━━━━━━━━━━━\u001b[0m \u001b[32m316.9/316.9 MB\u001b[0m \u001b[31m3.1 MB/s\u001b[0m eta \u001b[36m0:00:00\u001b[0m\n",
            "\u001b[?25h  Preparing metadata (setup.py) ... \u001b[?25l\u001b[?25hdone\n",
            "Requirement already satisfied: py4j==0.10.9.7 in /usr/local/lib/python3.10/dist-packages (from pyspark) (0.10.9.7)\n",
            "Building wheels for collected packages: pyspark\n",
            "  Building wheel for pyspark (setup.py) ... \u001b[?25l\u001b[?25hdone\n",
            "  Created wheel for pyspark: filename=pyspark-3.5.0-py2.py3-none-any.whl size=317425344 sha256=82ce162722a4a3443e2e7a675944efed6dfbb02bc18a8053e76067601a5e36d7\n",
            "  Stored in directory: /root/.cache/pip/wheels/41/4e/10/c2cf2467f71c678cfc8a6b9ac9241e5e44a01940da8fbb17fc\n",
            "Successfully built pyspark\n",
            "Installing collected packages: pyspark\n",
            "Successfully installed pyspark-3.5.0\n",
            "Collecting pymongo\n",
            "  Downloading pymongo-4.6.0-cp310-cp310-manylinux_2_17_x86_64.manylinux2014_x86_64.whl (677 kB)\n",
            "\u001b[2K     \u001b[90m━━━━━━━━━━━━━━━━━━━━━━━━━━━━━━━━━━━━━━━━\u001b[0m \u001b[32m677.1/677.1 kB\u001b[0m \u001b[31m7.6 MB/s\u001b[0m eta \u001b[36m0:00:00\u001b[0m\n",
            "\u001b[?25hCollecting dnspython<3.0.0,>=1.16.0 (from pymongo)\n",
            "  Downloading dnspython-2.4.2-py3-none-any.whl (300 kB)\n",
            "\u001b[2K     \u001b[90m━━━━━━━━━━━━━━━━━━━━━━━━━━━━━━━━━━━━━━━━\u001b[0m \u001b[32m300.4/300.4 kB\u001b[0m \u001b[31m26.9 MB/s\u001b[0m eta \u001b[36m0:00:00\u001b[0m\n",
            "\u001b[?25hInstalling collected packages: dnspython, pymongo\n",
            "Successfully installed dnspython-2.4.2 pymongo-4.6.0\n"
          ]
        }
      ],
      "source": [
        "!pip install confluent-kafka\n",
        "!pip install pyspark\n",
        "!pip install pymongo"
      ]
    },
    {
      "cell_type": "code",
      "execution_count": null,
      "metadata": {
        "id": "rDocM4tD89Vv"
      },
      "outputs": [],
      "source": [
        "import confluent_kafka as ck\n",
        "import random\n",
        "import time"
      ]
    },
    {
      "cell_type": "code",
      "execution_count": null,
      "metadata": {
        "colab": {
          "base_uri": "https://localhost:8080/",
          "height": 70
        },
        "id": "XN0D2T2FGJi8",
        "outputId": "42c5ac4e-b9a7-4a63-a7fe-e85c875ef27a"
      },
      "outputs": [
        {
          "output_type": "execute_result",
          "data": {
            "text/plain": [
              "'\\n\\n# Required connection configs for Confluent Cloud Schema Registry\\nschema.registry.url=https://psrc-j55zm.us-central1.gcp.confluent.cloud\\nbasic.auth.credentials.source=USER_INFO\\nbasic.auth.user.info={{ SR_API_KEY }}:{{ SR_API_SECRET }}\\n'"
            ],
            "application/vnd.google.colaboratory.intrinsic+json": {
              "type": "string"
            }
          },
          "metadata": {},
          "execution_count": 70
        }
      ],
      "source": [
        "config = {}\n",
        "# Required connection configs for Kafka producer, consumer, and admin\n",
        "config[\"bootstrap.servers\"] = \"pkc-60py3.europe-west9.gcp.confluent.cloud:9092\"\n",
        "#bootstrap.servers=pkc-60py3.europe-west9.gcp.confluent.cloud:9092\n",
        "config[\"security.protocol\"] = \"SASL_SSL\"\n",
        "#security.protocol=SASL_SSL\n",
        "config[\"sasl.mechanisms\"] = \"PLAIN\"\n",
        "#sasl.mechanisms=PLAIN\n",
        "config[\"sasl.username\"] = \"2WQXJOQPDG2MWLJB\"\n",
        "#sasl.username=2WQXJOQPDG2MWLJB\n",
        "config[\"sasl.password\"] = \"N0wpBXjhU3cBEawVm5aX5Ql5IofNTvWf4+CEHQgz+F2sinER5J/p6OJZpFJs0Hd5\"\n",
        "#sasl.password=N0wpBXjhU3cBEawVm5aX5Ql5IofNTvWf4+CEHQgz+F2sinER5J/p6OJZpFJs0Hd5\n",
        "\n",
        "# Best practice for higher availability in librdkafka clients prior to 1.7\n",
        "config[\"session.timeout.ms\"] = \"45000\"\n",
        "#session.timeout.ms=45000\n",
        "\n",
        "\"\"\"\n",
        "\n",
        "# Required connection configs for Confluent Cloud Schema Registry\n",
        "schema.registry.url=https://psrc-j55zm.us-central1.gcp.confluent.cloud\n",
        "basic.auth.credentials.source=USER_INFO\n",
        "basic.auth.user.info={{ SR_API_KEY }}:{{ SR_API_SECRET }}\n",
        "\"\"\""
      ]
    },
    {
      "cell_type": "code",
      "execution_count": null,
      "metadata": {
        "colab": {
          "base_uri": "https://localhost:8080/"
        },
        "id": "AYTSVDpiHgEV",
        "outputId": "f2392937-8d08-4941-d305-eaa7a128e9ad"
      },
      "outputs": [
        {
          "output_type": "execute_result",
          "data": {
            "text/plain": [
              "0"
            ]
          },
          "metadata": {},
          "execution_count": 71
        }
      ],
      "source": [
        "producer = ck.Producer(config)\n",
        "producer.produce(\"mon_topic_demo\", key=\"test\", value=\"Fuck la co de la fack\")\n",
        "producer.poll(1)"
      ]
    },
    {
      "cell_type": "code",
      "execution_count": null,
      "metadata": {
        "colab": {
          "base_uri": "https://localhost:8080/"
        },
        "id": "usSvYgLDIBYc",
        "outputId": "3f0b7241-e398-4b18-84bc-27e3c6a225df"
      },
      "outputs": [
        {
          "output_type": "stream",
          "name": "stdout",
          "text": [
            "35.231.6.252"
          ]
        }
      ],
      "source": [
        "!curl ipecho.net/plain"
      ]
    },
    {
      "cell_type": "markdown",
      "metadata": {
        "id": "nReXrXwATNjw"
      },
      "source": [
        "#API Infoclimat"
      ]
    },
    {
      "cell_type": "markdown",
      "source": [
        "##Config API"
      ],
      "metadata": {
        "id": "orq_52vmUiwN"
      }
    },
    {
      "cell_type": "code",
      "execution_count": null,
      "metadata": {
        "id": "Qf_ITslMTo-N",
        "colab": {
          "base_uri": "https://localhost:8080/"
        },
        "outputId": "fbf29a6c-1b58-4f0c-f680-8b4898c90804"
      },
      "outputs": [
        {
          "output_type": "stream",
          "name": "stdout",
          "text": [
            "['000Y4', '000CN', '0076', '000XE', '000WJ', '00002']\n"
          ]
        }
      ],
      "source": [
        "allStations = ['0222', '0220', '0219', '0218', '0217', '0216', '0215', '0213', '0212', '0211', '0208', '0206', '0204', '0203', '0202', '0201', '0200', '0198', '0196', '0193', '0192', '0191', '0190', '0189', '0188', '0186', '0185', '0184', '0183', '0182', '0181', '0180', '0179', '0178', '0172', '0170', '0167', '0166', 'ME153', '0165', '0164', '0162', '0151', '0149', '0147', 'ME152', '0145', '0144', '0142', '0171', '0141', '0139', '0138', 'ME151', '0136', '0134', '0133', '0131', '0129', '0128', '0126', '0125', '0124', '0123', '0122', '0120', '0118', '0117', '0116', '0115', '0114', '0111', '0109', '0108', '0107', '0106', '0105', '0103', '0102', '0101', '0100', '0099', '0098', '0097', '0096', '0095', '0092', '0091', '0093', '0224', '0087', '0086', '0085', '0082', '0079', '0076', '0075', '0074', '0073', '0070', '0068', '0067', '0066', '0065', '0063', '0062', '0061', '0059', '0058', '0055', '0054', '0053', '0052', '0051', '0050', '0048', '0047', '0046', '0044', '0039', '0038', '0037', '0036', '0035', '0032', '0031', '0030', '0029', '0027', '0024', '0023', '0022', '0021', '0016', '0015', '0012', '0011', '0072', '0010', '0009', '0007', '0006', '0005', '0002', '0001', '000ZX', '000ZW', '000ZV', '000ZU', '000ZT', '000ZS', '000ZR', '000ZQ', '000ZP', '0060', '000ZO', '000ZN', '000ZM', '000ZL', '000ZJ', '000ZK', '000ZI', '000ZH', '000ZG', '000ZF', '0205', '000ZE', '000ZB', '000YY', '000YW', '000YU', '0025', '000YO', '000YN', '000YM', '000YL', '000YK', '000YJ', '000YI', '000YH', '000YF', '000YE', '000YB', '000XZ', '000XY', '000XX', '000YX', '000XW', '000XR', '000XP', '000XO', '000XK', '0019', '000XJ', '000XI', '000XH', '000XF', '000YG', '000XE', '000XD', '000XB', '000XA', '000WZ', '000WY', '0013', '000YQ', '0071', '000WX', '000WW', '000WU', '000WN', '000WM', '000WL', '000WK', '000WJ', '000WI', '000WG', '000WF', '000WE', 'ME146', '000WD', '000WA', '000VY', '000VX', '000VW', '000VV', '000VT', '000VP', '000VN', '000VM', '000VL', '000VI', '000VF', '000VE', '000VC', '000UZ', '000UY', '000UW', '000UU', '000UT', '000US', '000UQ', '000UO', '000UN', '000UM', '000UL', '000UK', '000UJ', '000UI', '000UH', '000UF', '000UE', '000UB', '000UA', '000TZ', '000TY', '000TW', '000TS', '000TR', '000TQ', '000VJ', '000TO', '000TM', '000TL', '000TK', '000TJ', '000TG', '000TE', '000TD', '000TC', '000TB', '000TA', '000SZ', '000SY', '000SW', '000SU', '000ST', '000SS', '000SR', '000SP', '000SL', '000SK', '000SG', '000SF', '000SE', '000SD', '000SC', '000SB', '000RZ', '000RY', '000RX', '000RT', '000RS', '000RQ', '000RO', '000RM', '000RL', '000RK', '000RJ', '000RI', '000TU', '000RH', '000UC', '000SM', '000UD', '000TN', '000RG', '000RF', '000RE', '000RD', '000RC', '000RA', '000QZ', '000QY', '000RB', '000QX', '000QW', '000QT', '000QS', '000QR', '000QO', '000QN', '000QM', '000QJ', '000QI', '000QH', '000QG', '000QE', '000QD', '000QC', '000QB', '000QA', '000PZ', '000PY', '000PW', '000QF', '000PU', '000PT', '000PS', '000PQ', '000PP', '000PN', '000PM', '000PX', '000PL', '000PJ', '000PI', '000PH', '000PG', '000PA', '000OX', '000OZ', '000OU', '000OS', '000OR', '000OQ', '000OP', '000ON', '000OW', '000OM', '000OK', '000OJ', '000OI', '000OH', '000OG', 'ME139', '000OB', '000OA', '000NZ', '000NX', '000NW', '000NU', '000NT', '000NR', '000NQ', '000NM', '000NK', '000NJ', '000NI', '000NG', '000ND', '000NC', '000NB', '000MZ', '000MW', '000MV', '000MY', '000MS', '000MR', '000MQ', 'ME135', 'ME134', 'ME132', 'ME131', 'ME130', 'ME128', 'ME137', 'ME125', 'ME123', 'ME126', 'ME121', 'ME124', 'ME119', 'ME118', 'ME129', 'ME120', 'ME115', 'ME113', 'ME116', 'ME114', 'ME117', 'ME111', 'ME112', 'ME108', 'ME106', 'ME110', 'ME105', 'ME104', 'ME103', 'ME102', 'ME109', 'ME099', 'ME098', 'ME052', 'ME048', 'ME047', 'ME046', 'ME045', 'ME044', 'ME043', 'ME042', 'ME040', 'ME039', 'ME038', 'ME036', 'ME035', 'ME034', 'ME033', 'ME032', 'ME031', 'ME030', 'ME029', 'ME028', 'ME027', 'ME026', 'ME024', 'ME023', 'ME022', 'ME021', 'ME020', 'ME019', 'ME017', 'ME016', 'ME013', 'ME012', 'ME011', 'ME010', 'ME009', 'ME007', 'ME006', 'ME005', 'ME004', 'ME051', 'ME050', 'ME001', '000MP', 'ME014', '000MO', '000MN', '000ML', '000MK', '000MJ', '000MI', '000MT', '000MG', '000MF', '000MD', '000MB', '000MA', '000LZ', '000LY', '000LV', '000LU', '000LS', '000LR', '000LQ', '000LP', '000LO', '000LM', '000IK', '000IF', '000ID', '000IC', '000IB', '000IA', '000HT', '000HS', '000HO', '000HM', '000HJ', '000HH', '000HF', '000HB', '000GU', '000GT', '000GS', '000GR', '000GQ', '000GP', '000HC', '000GO', '000GN', '000GL', '000GK', '000GJ', '000GI', '000GF', '000GM', '000GC', '000FZ', '000FY', '000FX', '000FW', '000GB', '000FV', '000FU', '000FT', '000FS', '000FR', '000FP', '000FO', '000FN', '000FM', '000FL', '000FK', '000FI', '000FG', '000FE', '000FD', '000FC', '000FB', '000OT', '000FA', '000EW', '000EV', '000EU', '000EQ', '000EN', '000ET', '000II', '000EK', '000EI', '000EP', '000EG', '000ED', '000EC', '000EB', '000DZ', '000DX', '000DV', '000DS', '000DR', '000DQ', '000DP', '000HR', '000DN', '000DM', '000DJ', '000DI', '000DH', '000DF', '000DE', '000DD', '000DC', '000DB', '000CZ', '000CY', '000CX', '000CW', '000CV', '000CT', '000CR', '000CP', '000CO', '000CN', '000CM', '000CK', '000CJ', '000CI', '000CF', '000CE', '000CD', '000CC', '000CA', '000BZ', '000BY', '000BX', '000BV', '000BS', '000BO', '000BM', '000BI', '000BN', '000BG', '000BQ', '000BE', '000BB', '000BA', '000AX', '000AV', '000AS', '000AL', '000AK', '000AJ', '000AI', '000AH', '000AF', '000AD', '000AC', '000AB', '000AA', '000Z9', '000Z7', '000Z6', '000Z4', '000Z1', '000Z0', '000Y5', '000Y3', '000VB', '000AU', '000X8', '000X6', '000X5', '000X4', '000X3', '000X2', '000X1', '000X0', '000W9', '000W8', '000W7', '000Y4', '000W6', '000W5', '000DA', '000W2', '000W1', '000V6', '0132', '000V4', '000V3', '000V2', '000V0', '000U7', '000U6', '000U4', '000U3', '000QU', '000U1', '000U0', '000T8', '000T9', '000T6', '000T5', '000T3', '000T1', '000T0', '000S9', '000S8', '000S6', '000S3', '000S2', '000S4', '000S1', '000S0', '000R6', '000R5', '000R4', '000R3', '000R2', '000R1', '000Q8', '000Q6', '000Q4', '000Q2', '000P9', '000P8', '000P6', '000P4', '000P2', '000P1', '000O9', '000O8', '000O7', '000O5', '000O4', '000O3', '000O2', '000N9', '000N4', '000N3', '000Q7', '000M7', '000M6', '000M4', '000M2', '000L9', '000L7', '000L5', '000L3', '000Q3', '000P7', '000L2', '000L1', '000K7', '000K6', '000K5', '000K4', '000K2', '000K1', '000K0', '000J9', '000J8', '000J4', '000I7', '000J2', '000I9', '000I6', '000I5', '000I4', '000E8', '000E7', '000K3', '000E2', '000E0', '000I2', '000I1', '000H9', '000H8', '000H6', '000H4', '000G7', '000G6', '000G4', '000G3', '000G2', '000G1', '000F8', '000F7', '000F4', '000D8', '000F3', '000BP', '000D5', '000D2', '000D3', '000C9', '000C6', '000C5', '000C7', '000B8', '000B9', '000C1', '000C0', '000B5', '000B6', '000B4', '000B3', '000B0', '000A9', '000A5', '000A6', '000A3', '000A1', '00099', '00098', '00096', '00095', '00094', '00092', '00091', '00089', '00088', '00086', '00080', '00081', '00076', '00074', '00072', '00070', '00065', '00061', '00063', '00060', '00053', '00059', '00054', '00052', '00051', '00049', '00047', '00042', '00041', '00038', '00035', '00033', '00032', '00029', '00025', '00023', '00001', '00018', '00014', '00010', '00009', '000J1', '000VQ', '00004', '00002', 'VENTOUX', '07747', '07650', '07643', '07630', '07627', '07621', '07607', '07591', '07577', '07558', '07535', '07510', '07481', '07471', '07460', '07434', '07335', '07314', '07299', '07280', '07255', '07240', '07222', '07207', '07190', '07181', '07168', '07149', '07139', '07130', '07117', '07110', '07070', '07037', '07027', '07020', '07015', '07005', '000WT', '0113', '0056', '0008', '000TP', '000OO', 'ME107', 'ME025', 'ME008', '000EO', '000CL', '000BU', '000Y9', '000X9', '000U9', '000Q9', '000N6', '000M9', '000M8', '000L4', '000J6', '000J0', '00093', '00075', '00057', '00003', '07661', '000BL', '000C4', '000NP', '000AY', 'ME003', '000Z8', '0148', '000NH', '000V7', '000SH', '000EF', '000WB', 'ME101', '0175', '0174', '0146', 'CAYOLLE', 'ENTRAUNES', '0033', '000ZC', '000YZ', '000XN', '000TX', '000SN', '000PK', '000NL', 'ME015', '000HL', '000HD', '000GH', '000GG', '000GD', '07690', '000UX', '000QV', '000U2', '000ZA', '000SX', '0014', 'ME136', 'ME049', '000XM', '000MX', '000Y1', '000EH', '000YD', '000NF', 'ME138', '000PO', '0084', '0069', '000SO', '000AE', '000N5', '00027', '00015', '07790', '000RN', '0194', '07761', 'ME018', 'ME057', '000CU']\n",
        "#function to get random stations in a range as parameter\n",
        "def get_random_stations(n):\n",
        "  return random.sample(allStations, n)\n",
        "print(get_random_stations(6))\n"
      ]
    },
    {
      "cell_type": "code",
      "source": [
        "api_token = '37tQvfUK4TyTV4BxxKKr1IOMq3ibBG4PH3gfwEphInrGicZ2efV1Vg'\n",
        "stations = get_random_stations(15)"
      ],
      "metadata": {
        "id": "dqbBjBSQUkaS"
      },
      "execution_count": null,
      "outputs": []
    },
    {
      "cell_type": "markdown",
      "metadata": {
        "id": "JLuiDUV4TPxh"
      },
      "source": [
        "##Creation de l'url d'API"
      ]
    },
    {
      "cell_type": "code",
      "execution_count": null,
      "metadata": {
        "id": "7btMTiTR-KpV"
      },
      "outputs": [],
      "source": [
        "\n",
        "import requests\n",
        "import csv\n",
        "from io import StringIO\n",
        "\n",
        "def build_api_url(start, end, token, stations):\n",
        "    base_url = 'https://www.infoclimat.fr/opendata/?method=get&format=csv&'\n",
        "    stations_param = '&'.join([f'stations[]={station}' for station in stations])\n",
        "    date_param = f'start={start}&end={end}'\n",
        "    token_param = f'token={token}'\n",
        "    api_url = f'{base_url}{stations_param}&{date_param}&{token_param}'\n",
        "    return api_url\n",
        "\n"
      ]
    },
    {
      "cell_type": "markdown",
      "metadata": {
        "id": "lD47BeL5TUL3"
      },
      "source": [
        "##Appel d'API"
      ]
    },
    {
      "cell_type": "code",
      "execution_count": null,
      "metadata": {
        "id": "oQkmtdE_GcD6"
      },
      "outputs": [],
      "source": [
        "import pandas as pd\n",
        "\n",
        "def call_api(api_url):\n",
        "  # Make a GET request to the API\n",
        "  response = requests.get(api_url)\n",
        "  # Check if the request was successful (status code 200)\n",
        "  if response.status_code == 200:\n",
        "        try:\n",
        "            # Parse the CSV data using the csv module\n",
        "            df = pd.read_csv(StringIO(response.text))\n",
        "        except Exception as e:\n",
        "            print(f\"Error decoding CSV: {e}\")\n",
        "  else:\n",
        "      # If the request was not successful, print the error code\n",
        "      print(f\"Error: {response.status_code}\")\n",
        "  #display(df)\n",
        "  return df"
      ]
    },
    {
      "cell_type": "markdown",
      "source": [
        "### Test Appel Api"
      ],
      "metadata": {
        "id": "z8b2TBw7U8v0"
      }
    },
    {
      "cell_type": "code",
      "source": [
        "# Example usage:\n",
        "start_date = '2019-11-29'\n",
        "end_date = '2019-11-30'\n",
        "\n",
        "api_url = build_api_url(start_date, end_date, api_token, stations)\n",
        "print(api_url)\n",
        "csv_data = call_api(api_url)\n",
        "\n",
        "print(\"CSV Data:\")\n",
        "csv_data"
      ],
      "metadata": {
        "colab": {
          "base_uri": "https://localhost:8080/",
          "height": 478
        },
        "id": "ZiZUbGBlU-EV",
        "outputId": "7487da52-73b8-48d8-aac7-4ef1574fdf2f"
      },
      "execution_count": null,
      "outputs": [
        {
          "output_type": "stream",
          "name": "stdout",
          "text": [
            "https://www.infoclimat.fr/opendata/?method=get&format=csv&stations[]=000SG&stations[]=ME032&stations[]=0011&stations[]=000EF&stations[]=000IK&stations[]=000CP&stations[]=0013&stations[]=000S9&stations[]=000VF&stations[]=000U3&stations[]=000X9&stations[]=0006&stations[]=000CF&stations[]=000UM&stations[]=000RT&start=2019-11-29&end=2019-11-30&token=37tQvfUK4TyTV4BxxKKr1IOMq3ibBG4PH3gfwEphInrGicZ2efV1Vg\n",
            "CSV Data:\n"
          ]
        },
        {
          "output_type": "execute_result",
          "data": {
            "text/plain": [
              "                                            # METADATA:\n",
              "0                        # 000CF: Prudhomat - Castelnau\n",
              "1                      # 000CP: Pressagny-l'Orgueilleux\n",
              "2                            # 000EF: Cavalaire-sur-Mer\n",
              "3                  # 000IK: Perche en NocÃ© - Courboyer\n",
              "4                                    # 000RT: Cauterets\n",
              "...                                                 ...\n",
              "1806  000X9;2019-11-30 23:10:00;13.3;1016.3;89;11.7;...\n",
              "1807  000X9;2019-11-30 23:20:00;13.2;1016.1;89;11.7;...\n",
              "1808  000X9;2019-11-30 23:30:00;13.2;1016;90;11.7;4....\n",
              "1809  000X9;2019-11-30 23:40:00;13.3;1015.8;90;11.7;...\n",
              "1810  000X9;2019-11-30 23:50:00;13.2;1015.8;91;11.7;...\n",
              "\n",
              "[1811 rows x 1 columns]"
            ],
            "text/html": [
              "\n",
              "  <div id=\"df-deaa6e3e-18f6-4504-87b6-dae73708f246\" class=\"colab-df-container\">\n",
              "    <div>\n",
              "<style scoped>\n",
              "    .dataframe tbody tr th:only-of-type {\n",
              "        vertical-align: middle;\n",
              "    }\n",
              "\n",
              "    .dataframe tbody tr th {\n",
              "        vertical-align: top;\n",
              "    }\n",
              "\n",
              "    .dataframe thead th {\n",
              "        text-align: right;\n",
              "    }\n",
              "</style>\n",
              "<table border=\"1\" class=\"dataframe\">\n",
              "  <thead>\n",
              "    <tr style=\"text-align: right;\">\n",
              "      <th></th>\n",
              "      <th># METADATA:</th>\n",
              "    </tr>\n",
              "  </thead>\n",
              "  <tbody>\n",
              "    <tr>\n",
              "      <th>0</th>\n",
              "      <td># 000CF: Prudhomat - Castelnau</td>\n",
              "    </tr>\n",
              "    <tr>\n",
              "      <th>1</th>\n",
              "      <td># 000CP: Pressagny-l'Orgueilleux</td>\n",
              "    </tr>\n",
              "    <tr>\n",
              "      <th>2</th>\n",
              "      <td># 000EF: Cavalaire-sur-Mer</td>\n",
              "    </tr>\n",
              "    <tr>\n",
              "      <th>3</th>\n",
              "      <td># 000IK: Perche en NocÃ© - Courboyer</td>\n",
              "    </tr>\n",
              "    <tr>\n",
              "      <th>4</th>\n",
              "      <td># 000RT: Cauterets</td>\n",
              "    </tr>\n",
              "    <tr>\n",
              "      <th>...</th>\n",
              "      <td>...</td>\n",
              "    </tr>\n",
              "    <tr>\n",
              "      <th>1806</th>\n",
              "      <td>000X9;2019-11-30 23:10:00;13.3;1016.3;89;11.7;...</td>\n",
              "    </tr>\n",
              "    <tr>\n",
              "      <th>1807</th>\n",
              "      <td>000X9;2019-11-30 23:20:00;13.2;1016.1;89;11.7;...</td>\n",
              "    </tr>\n",
              "    <tr>\n",
              "      <th>1808</th>\n",
              "      <td>000X9;2019-11-30 23:30:00;13.2;1016;90;11.7;4....</td>\n",
              "    </tr>\n",
              "    <tr>\n",
              "      <th>1809</th>\n",
              "      <td>000X9;2019-11-30 23:40:00;13.3;1015.8;90;11.7;...</td>\n",
              "    </tr>\n",
              "    <tr>\n",
              "      <th>1810</th>\n",
              "      <td>000X9;2019-11-30 23:50:00;13.2;1015.8;91;11.7;...</td>\n",
              "    </tr>\n",
              "  </tbody>\n",
              "</table>\n",
              "<p>1811 rows × 1 columns</p>\n",
              "</div>\n",
              "    <div class=\"colab-df-buttons\">\n",
              "\n",
              "  <div class=\"colab-df-container\">\n",
              "    <button class=\"colab-df-convert\" onclick=\"convertToInteractive('df-deaa6e3e-18f6-4504-87b6-dae73708f246')\"\n",
              "            title=\"Convert this dataframe to an interactive table.\"\n",
              "            style=\"display:none;\">\n",
              "\n",
              "  <svg xmlns=\"http://www.w3.org/2000/svg\" height=\"24px\" viewBox=\"0 -960 960 960\">\n",
              "    <path d=\"M120-120v-720h720v720H120Zm60-500h600v-160H180v160Zm220 220h160v-160H400v160Zm0 220h160v-160H400v160ZM180-400h160v-160H180v160Zm440 0h160v-160H620v160ZM180-180h160v-160H180v160Zm440 0h160v-160H620v160Z\"/>\n",
              "  </svg>\n",
              "    </button>\n",
              "\n",
              "  <style>\n",
              "    .colab-df-container {\n",
              "      display:flex;\n",
              "      gap: 12px;\n",
              "    }\n",
              "\n",
              "    .colab-df-convert {\n",
              "      background-color: #E8F0FE;\n",
              "      border: none;\n",
              "      border-radius: 50%;\n",
              "      cursor: pointer;\n",
              "      display: none;\n",
              "      fill: #1967D2;\n",
              "      height: 32px;\n",
              "      padding: 0 0 0 0;\n",
              "      width: 32px;\n",
              "    }\n",
              "\n",
              "    .colab-df-convert:hover {\n",
              "      background-color: #E2EBFA;\n",
              "      box-shadow: 0px 1px 2px rgba(60, 64, 67, 0.3), 0px 1px 3px 1px rgba(60, 64, 67, 0.15);\n",
              "      fill: #174EA6;\n",
              "    }\n",
              "\n",
              "    .colab-df-buttons div {\n",
              "      margin-bottom: 4px;\n",
              "    }\n",
              "\n",
              "    [theme=dark] .colab-df-convert {\n",
              "      background-color: #3B4455;\n",
              "      fill: #D2E3FC;\n",
              "    }\n",
              "\n",
              "    [theme=dark] .colab-df-convert:hover {\n",
              "      background-color: #434B5C;\n",
              "      box-shadow: 0px 1px 3px 1px rgba(0, 0, 0, 0.15);\n",
              "      filter: drop-shadow(0px 1px 2px rgba(0, 0, 0, 0.3));\n",
              "      fill: #FFFFFF;\n",
              "    }\n",
              "  </style>\n",
              "\n",
              "    <script>\n",
              "      const buttonEl =\n",
              "        document.querySelector('#df-deaa6e3e-18f6-4504-87b6-dae73708f246 button.colab-df-convert');\n",
              "      buttonEl.style.display =\n",
              "        google.colab.kernel.accessAllowed ? 'block' : 'none';\n",
              "\n",
              "      async function convertToInteractive(key) {\n",
              "        const element = document.querySelector('#df-deaa6e3e-18f6-4504-87b6-dae73708f246');\n",
              "        const dataTable =\n",
              "          await google.colab.kernel.invokeFunction('convertToInteractive',\n",
              "                                                    [key], {});\n",
              "        if (!dataTable) return;\n",
              "\n",
              "        const docLinkHtml = 'Like what you see? Visit the ' +\n",
              "          '<a target=\"_blank\" href=https://colab.research.google.com/notebooks/data_table.ipynb>data table notebook</a>'\n",
              "          + ' to learn more about interactive tables.';\n",
              "        element.innerHTML = '';\n",
              "        dataTable['output_type'] = 'display_data';\n",
              "        await google.colab.output.renderOutput(dataTable, element);\n",
              "        const docLink = document.createElement('div');\n",
              "        docLink.innerHTML = docLinkHtml;\n",
              "        element.appendChild(docLink);\n",
              "      }\n",
              "    </script>\n",
              "  </div>\n",
              "\n",
              "\n",
              "<div id=\"df-3628ddec-375e-4a82-8f14-7406ac889578\">\n",
              "  <button class=\"colab-df-quickchart\" onclick=\"quickchart('df-3628ddec-375e-4a82-8f14-7406ac889578')\"\n",
              "            title=\"Suggest charts\"\n",
              "            style=\"display:none;\">\n",
              "\n",
              "<svg xmlns=\"http://www.w3.org/2000/svg\" height=\"24px\"viewBox=\"0 0 24 24\"\n",
              "     width=\"24px\">\n",
              "    <g>\n",
              "        <path d=\"M19 3H5c-1.1 0-2 .9-2 2v14c0 1.1.9 2 2 2h14c1.1 0 2-.9 2-2V5c0-1.1-.9-2-2-2zM9 17H7v-7h2v7zm4 0h-2V7h2v10zm4 0h-2v-4h2v4z\"/>\n",
              "    </g>\n",
              "</svg>\n",
              "  </button>\n",
              "\n",
              "<style>\n",
              "  .colab-df-quickchart {\n",
              "      --bg-color: #E8F0FE;\n",
              "      --fill-color: #1967D2;\n",
              "      --hover-bg-color: #E2EBFA;\n",
              "      --hover-fill-color: #174EA6;\n",
              "      --disabled-fill-color: #AAA;\n",
              "      --disabled-bg-color: #DDD;\n",
              "  }\n",
              "\n",
              "  [theme=dark] .colab-df-quickchart {\n",
              "      --bg-color: #3B4455;\n",
              "      --fill-color: #D2E3FC;\n",
              "      --hover-bg-color: #434B5C;\n",
              "      --hover-fill-color: #FFFFFF;\n",
              "      --disabled-bg-color: #3B4455;\n",
              "      --disabled-fill-color: #666;\n",
              "  }\n",
              "\n",
              "  .colab-df-quickchart {\n",
              "    background-color: var(--bg-color);\n",
              "    border: none;\n",
              "    border-radius: 50%;\n",
              "    cursor: pointer;\n",
              "    display: none;\n",
              "    fill: var(--fill-color);\n",
              "    height: 32px;\n",
              "    padding: 0;\n",
              "    width: 32px;\n",
              "  }\n",
              "\n",
              "  .colab-df-quickchart:hover {\n",
              "    background-color: var(--hover-bg-color);\n",
              "    box-shadow: 0 1px 2px rgba(60, 64, 67, 0.3), 0 1px 3px 1px rgba(60, 64, 67, 0.15);\n",
              "    fill: var(--button-hover-fill-color);\n",
              "  }\n",
              "\n",
              "  .colab-df-quickchart-complete:disabled,\n",
              "  .colab-df-quickchart-complete:disabled:hover {\n",
              "    background-color: var(--disabled-bg-color);\n",
              "    fill: var(--disabled-fill-color);\n",
              "    box-shadow: none;\n",
              "  }\n",
              "\n",
              "  .colab-df-spinner {\n",
              "    border: 2px solid var(--fill-color);\n",
              "    border-color: transparent;\n",
              "    border-bottom-color: var(--fill-color);\n",
              "    animation:\n",
              "      spin 1s steps(1) infinite;\n",
              "  }\n",
              "\n",
              "  @keyframes spin {\n",
              "    0% {\n",
              "      border-color: transparent;\n",
              "      border-bottom-color: var(--fill-color);\n",
              "      border-left-color: var(--fill-color);\n",
              "    }\n",
              "    20% {\n",
              "      border-color: transparent;\n",
              "      border-left-color: var(--fill-color);\n",
              "      border-top-color: var(--fill-color);\n",
              "    }\n",
              "    30% {\n",
              "      border-color: transparent;\n",
              "      border-left-color: var(--fill-color);\n",
              "      border-top-color: var(--fill-color);\n",
              "      border-right-color: var(--fill-color);\n",
              "    }\n",
              "    40% {\n",
              "      border-color: transparent;\n",
              "      border-right-color: var(--fill-color);\n",
              "      border-top-color: var(--fill-color);\n",
              "    }\n",
              "    60% {\n",
              "      border-color: transparent;\n",
              "      border-right-color: var(--fill-color);\n",
              "    }\n",
              "    80% {\n",
              "      border-color: transparent;\n",
              "      border-right-color: var(--fill-color);\n",
              "      border-bottom-color: var(--fill-color);\n",
              "    }\n",
              "    90% {\n",
              "      border-color: transparent;\n",
              "      border-bottom-color: var(--fill-color);\n",
              "    }\n",
              "  }\n",
              "</style>\n",
              "\n",
              "  <script>\n",
              "    async function quickchart(key) {\n",
              "      const quickchartButtonEl =\n",
              "        document.querySelector('#' + key + ' button');\n",
              "      quickchartButtonEl.disabled = true;  // To prevent multiple clicks.\n",
              "      quickchartButtonEl.classList.add('colab-df-spinner');\n",
              "      try {\n",
              "        const charts = await google.colab.kernel.invokeFunction(\n",
              "            'suggestCharts', [key], {});\n",
              "      } catch (error) {\n",
              "        console.error('Error during call to suggestCharts:', error);\n",
              "      }\n",
              "      quickchartButtonEl.classList.remove('colab-df-spinner');\n",
              "      quickchartButtonEl.classList.add('colab-df-quickchart-complete');\n",
              "    }\n",
              "    (() => {\n",
              "      let quickchartButtonEl =\n",
              "        document.querySelector('#df-3628ddec-375e-4a82-8f14-7406ac889578 button');\n",
              "      quickchartButtonEl.style.display =\n",
              "        google.colab.kernel.accessAllowed ? 'block' : 'none';\n",
              "    })();\n",
              "  </script>\n",
              "</div>\n",
              "    </div>\n",
              "  </div>\n"
            ]
          },
          "metadata": {},
          "execution_count": 78
        }
      ]
    },
    {
      "cell_type": "markdown",
      "metadata": {
        "id": "iFhIMDbbTXAc"
      },
      "source": [
        "##Recuperer les intervalles de semaines de 1 mois precis"
      ]
    },
    {
      "cell_type": "code",
      "execution_count": null,
      "metadata": {
        "id": "2jqmiNOeTAqa",
        "colab": {
          "base_uri": "https://localhost:8080/"
        },
        "outputId": "154a3460-3257-46b4-d38a-ce66824c4d32"
      },
      "outputs": [
        {
          "output_type": "stream",
          "name": "stdout",
          "text": [
            "Start and finish dates for 2019-11: [['2019-11-01', '2019-11-07'], ['2019-11-08', '2019-11-14'], ['2019-11-15', '2019-11-21'], ['2019-11-22', '2019-11-28'], ['2019-11-29', '2019-11-30']]\n"
          ]
        }
      ],
      "source": [
        "from datetime import datetime, timedelta, date\n",
        "import calendar\n",
        "\n",
        "def get_week_intervals(year, month):\n",
        "    first_day = datetime(year, month, 1)\n",
        "    _, last_day_of_month = calendar.monthrange(year, month)\n",
        "    last_day = datetime(year, month, last_day_of_month)\n",
        "    num_weeks = (last_day - first_day).days // 7 + 1\n",
        "    start_and_finish_dates = []\n",
        "\n",
        "    for week in range(num_weeks):\n",
        "        start_date = first_day + timedelta(days=week * 7)\n",
        "        finish_date = min(first_day + timedelta(days=(week + 1) * 7 - 1), last_day)\n",
        "        start_and_finish_dates.append([start_date.strftime('%Y-%m-%d'), finish_date.strftime('%Y-%m-%d')])\n",
        "\n",
        "    return start_and_finish_dates\n",
        "\n",
        "# Example usage:\n",
        "year = 2019\n",
        "month = 11\n",
        "start_and_finish_dates = get_week_intervals(year, month)\n",
        "print(f'Start and finish dates for {year}-{month:02d}: {start_and_finish_dates}')"
      ]
    },
    {
      "cell_type": "markdown",
      "source": [
        "## Recuperer dataframe des donnes meteo d'un mois precis"
      ],
      "metadata": {
        "id": "qkfkyA0UWovE"
      }
    },
    {
      "cell_type": "code",
      "source": [
        "import pandas as pd\n",
        "import time\n",
        "def get_data_for_month(year, month, token, stations):\n",
        "    # Get start and finish dates\n",
        "    start_and_finish_dates = get_week_intervals(year, month)\n",
        "    skip_rows=len(stations)+4\n",
        "    # Initialize a list to store dataframes\n",
        "    dataframes = []\n",
        "    # Iterate through start and finish date pairs\n",
        "    for start_date, finish_date in start_and_finish_dates:\n",
        "        #print(start_date)\n",
        "        #print(finish_date)\n",
        "        # Build API URL\n",
        "        api_url = build_api_url(start_date, finish_date, token, stations)\n",
        "        # Call API to get dataframe\n",
        "        dataframe = call_api(api_url)\n",
        "        if skip_rows > 0 and len(dataframes) > 0:\n",
        "            dataframe = dataframe.iloc[skip_rows:]\n",
        "        time.sleep(5)\n",
        "        dataframes.append(dataframe)\n",
        "    # Concatenate dataframes\n",
        "    concatenated_dataframe = pd.concat(dataframes, ignore_index=True)\n",
        "\n",
        "    return concatenated_dataframe\n",
        "\n",
        "# Example usage:\n",
        "year = 2019\n",
        "month = 11\n",
        "\n",
        "result_dataframe = get_data_for_month(year, month, api_token, stations)\n",
        "print(result_dataframe)\n"
      ],
      "metadata": {
        "colab": {
          "base_uri": "https://localhost:8080/"
        },
        "id": "6AzM8oXlWoTF",
        "outputId": "7ceb1012-07a0-4ff9-d3de-57720bf89a9c"
      },
      "execution_count": null,
      "outputs": [
        {
          "output_type": "stream",
          "name": "stdout",
          "text": [
            "                                             # METADATA:\n",
            "0                         # 000CF: Prudhomat - Castelnau\n",
            "1                       # 000CP: Pressagny-l'Orgueilleux\n",
            "2                             # 000EF: Cavalaire-sur-Mer\n",
            "3                   # 000IK: Perche en NocÃ© - Courboyer\n",
            "4                                     # 000RT: Cauterets\n",
            "...                                                  ...\n",
            "26954  000X9;2019-11-30 23:10:00;13.3;1016.3;89;11.7;...\n",
            "26955  000X9;2019-11-30 23:20:00;13.2;1016.1;89;11.7;...\n",
            "26956  000X9;2019-11-30 23:30:00;13.2;1016;90;11.7;4....\n",
            "26957  000X9;2019-11-30 23:40:00;13.3;1015.8;90;11.7;...\n",
            "26958  000X9;2019-11-30 23:50:00;13.2;1015.8;91;11.7;...\n",
            "\n",
            "[26959 rows x 1 columns]\n"
          ]
        }
      ]
    },
    {
      "cell_type": "code",
      "source": [
        "# Assuming result_dataframe is your DataFrame\n",
        "result_dataframe.to_csv('output_file.csv', index=False)\n"
      ],
      "metadata": {
        "id": "xLLs09VDaxZT"
      },
      "execution_count": null,
      "outputs": []
    }
  ],
  "metadata": {
    "colab": {
      "provenance": []
    },
    "kernelspec": {
      "display_name": "Python 3",
      "name": "python3"
    },
    "language_info": {
      "name": "python"
    }
  },
  "nbformat": 4,
  "nbformat_minor": 0
}