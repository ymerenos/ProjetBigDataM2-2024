{
 "cells": [
  {
   "cell_type": "code",
   "execution_count": 2,
   "metadata": {},
   "outputs": [
    {
     "name": "stdout",
     "output_type": "stream",
     "text": [
      "Requirement already satisfied: confluent-kafka in e:\\anaconda3\\envs\\aag-talp\\lib\\site-packages (2.3.0)\n",
      "Note: you may need to restart the kernel to use updated packages.\n",
      "Requirement already satisfied: pyspark in e:\\anaconda3\\envs\\aag-talp\\lib\\site-packages (3.5.0)\n",
      "Requirement already satisfied: py4j==0.10.9.7 in e:\\anaconda3\\envs\\aag-talp\\lib\\site-packages (from pyspark) (0.10.9.7)\n",
      "Note: you may need to restart the kernel to use updated packages.\n",
      "Requirement already satisfied: pymongo in e:\\anaconda3\\envs\\aag-talp\\lib\\site-packages (4.6.0)\n",
      "Requirement already satisfied: dnspython<3.0.0,>=1.16.0 in e:\\anaconda3\\envs\\aag-talp\\lib\\site-packages (from pymongo) (2.4.2)\n",
      "Note: you may need to restart the kernel to use updated packages.\n",
      "Requirement already satisfied: requests in e:\\anaconda3\\envs\\aag-talp\\lib\\site-packages (2.31.0)\n",
      "Requirement already satisfied: charset-normalizer<4,>=2 in e:\\anaconda3\\envs\\aag-talp\\lib\\site-packages (from requests) (3.3.2)\n",
      "Requirement already satisfied: idna<4,>=2.5 in e:\\anaconda3\\envs\\aag-talp\\lib\\site-packages (from requests) (3.4)\n",
      "Requirement already satisfied: urllib3<3,>=1.21.1 in e:\\anaconda3\\envs\\aag-talp\\lib\\site-packages (from requests) (2.1.0)\n",
      "Requirement already satisfied: certifi>=2017.4.17 in e:\\anaconda3\\envs\\aag-talp\\lib\\site-packages (from requests) (2023.7.22)\n",
      "Note: you may need to restart the kernel to use updated packages.\n",
      "Requirement already satisfied: pandas in e:\\anaconda3\\envs\\aag-talp\\lib\\site-packages (2.1.3)\n",
      "Requirement already satisfied: numpy<2,>=1.22.4 in e:\\anaconda3\\envs\\aag-talp\\lib\\site-packages (from pandas) (1.26.2)\n",
      "Requirement already satisfied: python-dateutil>=2.8.2 in e:\\anaconda3\\envs\\aag-talp\\lib\\site-packages (from pandas) (2.8.2)\n",
      "Requirement already satisfied: pytz>=2020.1 in e:\\anaconda3\\envs\\aag-talp\\lib\\site-packages (from pandas) (2023.3.post1)\n",
      "Requirement already satisfied: tzdata>=2022.1 in e:\\anaconda3\\envs\\aag-talp\\lib\\site-packages (from pandas) (2023.3)\n",
      "Requirement already satisfied: six>=1.5 in e:\\anaconda3\\envs\\aag-talp\\lib\\site-packages (from python-dateutil>=2.8.2->pandas) (1.16.0)\n",
      "Note: you may need to restart the kernel to use updated packages.\n"
     ]
    }
   ],
   "source": [
    "%pip install confluent-kafka\n",
    "%pip install pyspark\n",
    "%pip install pymongo\n",
    "%pip install requests\n",
    "%pip install pandas"
   ]
  },
  {
   "cell_type": "code",
   "execution_count": 3,
   "metadata": {},
   "outputs": [],
   "source": [
    "import confluent_kafka as ck\n",
    "import random\n",
    "import time\n",
    "import requests\n",
    "import csv\n",
    "from io import StringIO\n",
    "import pandas as pd\n",
    "from datetime import datetime, timedelta, date\n",
    "import calendar\n",
    "import re\n",
    "import time"
   ]
  },
  {
   "cell_type": "markdown",
   "metadata": {},
   "source": [
    "# Kafka"
   ]
  },
  {
   "cell_type": "markdown",
   "metadata": {},
   "source": [
    "## Config Kafka"
   ]
  },
  {
   "cell_type": "code",
   "execution_count": 9,
   "metadata": {},
   "outputs": [
    {
     "data": {
      "text/plain": [
       "'\\n\\n# Required connection configs for Confluent Cloud Schema Registry\\nschema.registry.url=https://psrc-j55zm.us-central1.gcp.confluent.cloud\\nbasic.auth.credentials.source=USER_INFO\\nbasic.auth.user.info={{ SR_API_KEY }}:{{ SR_API_SECRET }}\\n'"
      ]
     },
     "execution_count": 9,
     "metadata": {},
     "output_type": "execute_result"
    }
   ],
   "source": [
    "config = {}\n",
    "# Required connection configs for Kafka producer, consumer, and admin\n",
    "config[\"bootstrap.servers\"] = \"pkc-60py3.europe-west9.gcp.confluent.cloud:9092\"\n",
    "#bootstrap.servers=pkc-60py3.europe-west9.gcp.confluent.cloud:9092\n",
    "config[\"security.protocol\"] = \"SASL_SSL\"\n",
    "#security.protocol=SASL_SSL\n",
    "config[\"sasl.mechanisms\"] = \"PLAIN\"\n",
    "#sasl.mechanisms=PLAIN\n",
    "config[\"sasl.username\"] = \"2WQXJOQPDG2MWLJB\"\n",
    "#sasl.username=2WQXJOQPDG2MWLJB\n",
    "config[\"sasl.password\"] = \"N0wpBXjhU3cBEawVm5aX5Ql5IofNTvWf4+CEHQgz+F2sinER5J/p6OJZpFJs0Hd5\"\n",
    "#sasl.password=N0wpBXjhU3cBEawVm5aX5Ql5IofNTvWf4+CEHQgz+F2sinER5J/p6OJZpFJs0Hd5\n",
    "\n",
    "# Best practice for higher availability in librdkafka clients prior to 1.7\n",
    "config[\"session.timeout.ms\"] = \"45000\"\n",
    "#session.timeout.ms=45000\n",
    "\n",
    "config[\"group.id\"] = \"python-group-1\"\n",
    "config[\"auto.offset.reset\"] = \"earliest\"\n",
    "\"\"\"\n",
    "\n",
    "# Required connection configs for Confluent Cloud Schema Registry\n",
    "schema.registry.url=https://psrc-j55zm.us-central1.gcp.confluent.cloud\n",
    "basic.auth.credentials.source=USER_INFO\n",
    "basic.auth.user.info={{ SR_API_KEY }}:{{ SR_API_SECRET }}\n",
    "\"\"\""
   ]
  },
  {
   "cell_type": "markdown",
   "metadata": {},
   "source": [
    "# Consumer"
   ]
  },
  {
   "cell_type": "code",
   "execution_count": 14,
   "metadata": {},
   "outputs": [
    {
     "ename": "TypeError",
     "evalue": "initial_value must be str or None, not list",
     "output_type": "error",
     "traceback": [
      "\u001b[1;31m---------------------------------------------------------------------------\u001b[0m",
      "\u001b[1;31mTypeError\u001b[0m                                 Traceback (most recent call last)",
      "\u001b[1;32mc:\\Users\\Julian\\OneDrive\\Desktop\\COURS\\S9\\Projet Big Data\\ProjetBigDataM2-2024\\Consumer.ipynb Cell 7\u001b[0m line \u001b[0;36m1\n\u001b[0;32m      <a href='vscode-notebook-cell:/c%3A/Users/Julian/OneDrive/Desktop/COURS/S9/Projet%20Big%20Data/ProjetBigDataM2-2024/Consumer.ipynb#W6sZmlsZQ%3D%3D?line=7'>8</a>\u001b[0m           \u001b[39mif\u001b[39;00m msg \u001b[39mis\u001b[39;00m \u001b[39mnot\u001b[39;00m \u001b[39mNone\u001b[39;00m \u001b[39mand\u001b[39;00m msg\u001b[39m.\u001b[39merror() \u001b[39mis\u001b[39;00m \u001b[39mNone\u001b[39;00m:\n\u001b[0;32m      <a href='vscode-notebook-cell:/c%3A/Users/Julian/OneDrive/Desktop/COURS/S9/Projet%20Big%20Data/ProjetBigDataM2-2024/Consumer.ipynb#W6sZmlsZQ%3D%3D?line=8'>9</a>\u001b[0m                input_string \u001b[39m=\u001b[39m msg\u001b[39m.\u001b[39mvalue()\u001b[39m.\u001b[39mdecode(\u001b[39m'\u001b[39m\u001b[39mutf-8\u001b[39m\u001b[39m'\u001b[39m)\u001b[39m.\u001b[39msplit(\u001b[39m'\u001b[39m\u001b[39m\\n\u001b[39;00m\u001b[39m'\u001b[39m)\n\u001b[1;32m---> <a href='vscode-notebook-cell:/c%3A/Users/Julian/OneDrive/Desktop/COURS/S9/Projet%20Big%20Data/ProjetBigDataM2-2024/Consumer.ipynb#W6sZmlsZQ%3D%3D?line=9'>10</a>\u001b[0m                new_data \u001b[39m=\u001b[39m pd\u001b[39m.\u001b[39mread_csv(StringIO(input_string), sep\u001b[39m=\u001b[39m\u001b[39m'\u001b[39m\u001b[39m;\u001b[39m\u001b[39m'\u001b[39m, names\u001b[39m=\u001b[39mdf\u001b[39m.\u001b[39mcolumns)\n\u001b[0;32m     <a href='vscode-notebook-cell:/c%3A/Users/Julian/OneDrive/Desktop/COURS/S9/Projet%20Big%20Data/ProjetBigDataM2-2024/Consumer.ipynb#W6sZmlsZQ%3D%3D?line=10'>11</a>\u001b[0m                df \u001b[39m=\u001b[39m pd\u001b[39m.\u001b[39mconcat([df, new_data], ignore_index\u001b[39m=\u001b[39m\u001b[39mTrue\u001b[39;00m)\n\u001b[0;32m     <a href='vscode-notebook-cell:/c%3A/Users/Julian/OneDrive/Desktop/COURS/S9/Projet%20Big%20Data/ProjetBigDataM2-2024/Consumer.ipynb#W6sZmlsZQ%3D%3D?line=11'>12</a>\u001b[0m \u001b[39mexcept\u001b[39;00m \u001b[39mKeyboardInterrupt\u001b[39;00m:\n",
      "\u001b[1;31mTypeError\u001b[0m: initial_value must be str or None, not list"
     ]
    }
   ],
   "source": [
    "from io import StringIO\n",
    "consumer = ck.Consumer(config)\n",
    "consumer.subscribe([\"mon_topic_demo\"])\n",
    "df = pd.DataFrame(columns=[\"station_id\", \"dh_utc\", \"temperature\", \"vent_moyen\", \"pluie_1h\"])\n",
    "try:\n",
    "     while True:\n",
    "          msg = consumer.poll(1.0)\n",
    "          if msg is not None and msg.error() is None:\n",
    "               input_strings = msg.value().decode('utf-8').split('\\n')\n",
    "               for input_string in input_strings:\n",
    "                    new_data = pd.read_csv(StringIO(input_string), sep=';', names=df.columns)\n",
    "                    df = pd.concat([df, new_data], ignore_index=True)\n",
    "except KeyboardInterrupt:\n",
    "     pass\n",
    "finally:\n",
    "     consumer.close()\n",
    "\n",
    "\n"
   ]
  },
  {
   "cell_type": "code",
   "execution_count": null,
   "metadata": {},
   "outputs": [],
   "source": [
    "display(df)"
   ]
  }
 ],
 "metadata": {
  "kernelspec": {
   "display_name": "aag-talp",
   "language": "python",
   "name": "python3"
  },
  "language_info": {
   "codemirror_mode": {
    "name": "ipython",
    "version": 3
   },
   "file_extension": ".py",
   "mimetype": "text/x-python",
   "name": "python",
   "nbconvert_exporter": "python",
   "pygments_lexer": "ipython3",
   "version": "3.9.18"
  }
 },
 "nbformat": 4,
 "nbformat_minor": 2
}
