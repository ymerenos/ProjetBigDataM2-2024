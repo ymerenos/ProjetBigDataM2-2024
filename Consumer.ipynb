{
 "cells": [
  {
   "cell_type": "code",
   "execution_count": 2,
   "metadata": {},
   "outputs": [
    {
     "name": "stdout",
     "output_type": "stream",
     "text": [
      "Requirement already satisfied: confluent-kafka in e:\\anaconda3\\envs\\aag-talp\\lib\\site-packages (2.3.0)\n",
      "Note: you may need to restart the kernel to use updated packages.\n",
      "Requirement already satisfied: pyspark in e:\\anaconda3\\envs\\aag-talp\\lib\\site-packages (3.5.0)\n",
      "Requirement already satisfied: py4j==0.10.9.7 in e:\\anaconda3\\envs\\aag-talp\\lib\\site-packages (from pyspark) (0.10.9.7)\n",
      "Note: you may need to restart the kernel to use updated packages.\n",
      "Requirement already satisfied: pymongo in e:\\anaconda3\\envs\\aag-talp\\lib\\site-packages (4.6.0)\n",
      "Requirement already satisfied: dnspython<3.0.0,>=1.16.0 in e:\\anaconda3\\envs\\aag-talp\\lib\\site-packages (from pymongo) (2.4.2)\n",
      "Note: you may need to restart the kernel to use updated packages.\n",
      "Requirement already satisfied: requests in e:\\anaconda3\\envs\\aag-talp\\lib\\site-packages (2.31.0)\n",
      "Requirement already satisfied: charset-normalizer<4,>=2 in e:\\anaconda3\\envs\\aag-talp\\lib\\site-packages (from requests) (3.3.2)\n",
      "Requirement already satisfied: idna<4,>=2.5 in e:\\anaconda3\\envs\\aag-talp\\lib\\site-packages (from requests) (3.4)\n",
      "Requirement already satisfied: urllib3<3,>=1.21.1 in e:\\anaconda3\\envs\\aag-talp\\lib\\site-packages (from requests) (2.1.0)\n",
      "Requirement already satisfied: certifi>=2017.4.17 in e:\\anaconda3\\envs\\aag-talp\\lib\\site-packages (from requests) (2023.7.22)\n",
      "Note: you may need to restart the kernel to use updated packages.\n",
      "Requirement already satisfied: pandas in e:\\anaconda3\\envs\\aag-talp\\lib\\site-packages (2.1.3)\n",
      "Requirement already satisfied: numpy<2,>=1.22.4 in e:\\anaconda3\\envs\\aag-talp\\lib\\site-packages (from pandas) (1.26.2)\n",
      "Requirement already satisfied: python-dateutil>=2.8.2 in e:\\anaconda3\\envs\\aag-talp\\lib\\site-packages (from pandas) (2.8.2)\n",
      "Requirement already satisfied: pytz>=2020.1 in e:\\anaconda3\\envs\\aag-talp\\lib\\site-packages (from pandas) (2023.3.post1)\n",
      "Requirement already satisfied: tzdata>=2022.1 in e:\\anaconda3\\envs\\aag-talp\\lib\\site-packages (from pandas) (2023.3)\n",
      "Requirement already satisfied: six>=1.5 in e:\\anaconda3\\envs\\aag-talp\\lib\\site-packages (from python-dateutil>=2.8.2->pandas) (1.16.0)\n",
      "Note: you may need to restart the kernel to use updated packages.\n"
     ]
    }
   ],
   "source": [
    "%pip install confluent-kafka\n",
    "%pip install pyspark\n",
    "%pip install pymongo\n",
    "%pip install requests\n",
    "%pip install pandas"
   ]
  },
  {
   "cell_type": "code",
   "execution_count": 3,
   "metadata": {},
   "outputs": [],
   "source": [
    "import confluent_kafka as ck\n",
    "import random\n",
    "import time\n",
    "import requests\n",
    "import csv\n",
    "from io import StringIO\n",
    "import pandas as pd\n",
    "from datetime import datetime, timedelta, date\n",
    "import calendar\n",
    "import re\n",
    "import time"
   ]
  },
  {
   "cell_type": "markdown",
   "metadata": {},
   "source": [
    "# Kafka"
   ]
  },
  {
   "cell_type": "markdown",
   "metadata": {},
   "source": [
    "## Config Kafka"
   ]
  },
  {
   "cell_type": "code",
   "execution_count": 9,
   "metadata": {},
   "outputs": [
    {
     "data": {
      "text/plain": [
       "'\\n\\n# Required connection configs for Confluent Cloud Schema Registry\\nschema.registry.url=https://psrc-j55zm.us-central1.gcp.confluent.cloud\\nbasic.auth.credentials.source=USER_INFO\\nbasic.auth.user.info={{ SR_API_KEY }}:{{ SR_API_SECRET }}\\n'"
      ]
     },
     "execution_count": 9,
     "metadata": {},
     "output_type": "execute_result"
    }
   ],
   "source": [
    "config = {}\n",
    "# Required connection configs for Kafka producer, consumer, and admin\n",
    "config[\"bootstrap.servers\"] = \"pkc-60py3.europe-west9.gcp.confluent.cloud:9092\"\n",
    "#bootstrap.servers=pkc-60py3.europe-west9.gcp.confluent.cloud:9092\n",
    "config[\"security.protocol\"] = \"SASL_SSL\"\n",
    "#security.protocol=SASL_SSL\n",
    "config[\"sasl.mechanisms\"] = \"PLAIN\"\n",
    "#sasl.mechanisms=PLAIN\n",
    "config[\"sasl.username\"] = \"2WQXJOQPDG2MWLJB\"\n",
    "#sasl.username=2WQXJOQPDG2MWLJB\n",
    "config[\"sasl.password\"] = \"N0wpBXjhU3cBEawVm5aX5Ql5IofNTvWf4+CEHQgz+F2sinER5J/p6OJZpFJs0Hd5\"\n",
    "#sasl.password=N0wpBXjhU3cBEawVm5aX5Ql5IofNTvWf4+CEHQgz+F2sinER5J/p6OJZpFJs0Hd5\n",
    "\n",
    "# Best practice for higher availability in librdkafka clients prior to 1.7\n",
    "config[\"session.timeout.ms\"] = \"45000\"\n",
    "#session.timeout.ms=45000\n",
    "\n",
    "config[\"group.id\"] = \"python-group-1\"\n",
    "config[\"auto.offset.reset\"] = \"earliest\"\n",
    "\"\"\"\n",
    "\n",
    "# Required connection configs for Confluent Cloud Schema Registry\n",
    "schema.registry.url=https://psrc-j55zm.us-central1.gcp.confluent.cloud\n",
    "basic.auth.credentials.source=USER_INFO\n",
    "basic.auth.user.info={{ SR_API_KEY }}:{{ SR_API_SECRET }}\n",
    "\"\"\""
   ]
  },
  {
   "cell_type": "markdown",
   "metadata": {},
   "source": [
    "# Consumer"
   ]
  },
  {
   "cell_type": "code",
   "execution_count": 22,
   "metadata": {},
   "outputs": [
    {
     "name": "stderr",
     "output_type": "stream",
     "text": [
      "C:\\Users\\Julian\\AppData\\Local\\Temp\\ipykernel_11572\\1822599183.py:12: FutureWarning: The behavior of DataFrame concatenation with empty or all-NA entries is deprecated. In a future version, this will no longer exclude empty or all-NA columns when determining the result dtypes. To retain the old behavior, exclude the relevant entries before the concat operation.\n",
      "  df = pd.concat([df, new_data], ignore_index=True)\n"
     ]
    }
   ],
   "source": [
    "from io import StringIO\n",
    "consumer = ck.Consumer(config)\n",
    "consumer.subscribe([\"mon_topic_demo\"])\n",
    "df = pd.DataFrame(columns=[\"station_id\", \"dh_utc\", \"temperature\", \"vent_moyen\", \"pluie_1h\"])\n",
    "try:\n",
    "     while True:\n",
    "          msg = consumer.poll(1.0)\n",
    "          if msg is not None and msg.error() is None:\n",
    "               input_strings = msg.value().decode('utf-8').split('\\n')\n",
    "               for input_string in input_strings:\n",
    "                    new_data = pd.read_csv(StringIO(input_string), sep=';', names=df.columns)\n",
    "                    df = pd.concat([df, new_data], ignore_index=True)\n",
    "except KeyboardInterrupt:\n",
    "     pass\n",
    "finally:\n",
    "     consumer.close()\n",
    "\n",
    "\n"
   ]
  },
  {
   "cell_type": "code",
   "execution_count": 23,
   "metadata": {},
   "outputs": [
    {
     "data": {
      "text/html": [
       "<div>\n",
       "<style scoped>\n",
       "    .dataframe tbody tr th:only-of-type {\n",
       "        vertical-align: middle;\n",
       "    }\n",
       "\n",
       "    .dataframe tbody tr th {\n",
       "        vertical-align: top;\n",
       "    }\n",
       "\n",
       "    .dataframe thead th {\n",
       "        text-align: right;\n",
       "    }\n",
       "</style>\n",
       "<table border=\"1\" class=\"dataframe\">\n",
       "  <thead>\n",
       "    <tr style=\"text-align: right;\">\n",
       "      <th></th>\n",
       "      <th>station_id</th>\n",
       "      <th>dh_utc</th>\n",
       "      <th>temperature</th>\n",
       "      <th>vent_moyen</th>\n",
       "      <th>pluie_1h</th>\n",
       "    </tr>\n",
       "  </thead>\n",
       "  <tbody>\n",
       "    <tr>\n",
       "      <th>0</th>\n",
       "      <td>23</td>\n",
       "      <td>2019-11-01 00:00:00</td>\n",
       "      <td>9.2</td>\n",
       "      <td>5.0</td>\n",
       "      <td>0.0</td>\n",
       "    </tr>\n",
       "    <tr>\n",
       "      <th>1</th>\n",
       "      <td>23</td>\n",
       "      <td>2019-11-01 01:00:00</td>\n",
       "      <td>9.3</td>\n",
       "      <td>6.0</td>\n",
       "      <td>0.0</td>\n",
       "    </tr>\n",
       "    <tr>\n",
       "      <th>2</th>\n",
       "      <td>23</td>\n",
       "      <td>2019-11-01 02:00:00</td>\n",
       "      <td>9.3</td>\n",
       "      <td>5.0</td>\n",
       "      <td>0.0</td>\n",
       "    </tr>\n",
       "    <tr>\n",
       "      <th>3</th>\n",
       "      <td>23</td>\n",
       "      <td>2019-11-01 03:00:00</td>\n",
       "      <td>9.3</td>\n",
       "      <td>2.0</td>\n",
       "      <td>0.0</td>\n",
       "    </tr>\n",
       "    <tr>\n",
       "      <th>4</th>\n",
       "      <td>23</td>\n",
       "      <td>2019-11-01 04:00:00</td>\n",
       "      <td>9.3</td>\n",
       "      <td>5.0</td>\n",
       "      <td>0.0</td>\n",
       "    </tr>\n",
       "    <tr>\n",
       "      <th>...</th>\n",
       "      <td>...</td>\n",
       "      <td>...</td>\n",
       "      <td>...</td>\n",
       "      <td>...</td>\n",
       "      <td>...</td>\n",
       "    </tr>\n",
       "    <tr>\n",
       "      <th>17235</th>\n",
       "      <td>ME106</td>\n",
       "      <td>2019-11-30 19:00:00</td>\n",
       "      <td>4.8</td>\n",
       "      <td>11.3</td>\n",
       "      <td>0.0</td>\n",
       "    </tr>\n",
       "    <tr>\n",
       "      <th>17236</th>\n",
       "      <td>ME106</td>\n",
       "      <td>2019-11-30 20:00:00</td>\n",
       "      <td>4.7</td>\n",
       "      <td>8.0</td>\n",
       "      <td>0.0</td>\n",
       "    </tr>\n",
       "    <tr>\n",
       "      <th>17237</th>\n",
       "      <td>ME106</td>\n",
       "      <td>2019-11-30 21:00:00</td>\n",
       "      <td>4.6</td>\n",
       "      <td>12.9</td>\n",
       "      <td>0.0</td>\n",
       "    </tr>\n",
       "    <tr>\n",
       "      <th>17238</th>\n",
       "      <td>ME106</td>\n",
       "      <td>2019-11-30 22:00:00</td>\n",
       "      <td>4.4</td>\n",
       "      <td>11.3</td>\n",
       "      <td>0.0</td>\n",
       "    </tr>\n",
       "    <tr>\n",
       "      <th>17239</th>\n",
       "      <td>ME106</td>\n",
       "      <td>2019-11-30 23:00:00</td>\n",
       "      <td>4.3</td>\n",
       "      <td>8.0</td>\n",
       "      <td>0.0</td>\n",
       "    </tr>\n",
       "  </tbody>\n",
       "</table>\n",
       "<p>17240 rows × 5 columns</p>\n",
       "</div>"
      ],
      "text/plain": [
       "      station_id               dh_utc  temperature  vent_moyen  pluie_1h\n",
       "0             23  2019-11-01 00:00:00          9.2         5.0       0.0\n",
       "1             23  2019-11-01 01:00:00          9.3         6.0       0.0\n",
       "2             23  2019-11-01 02:00:00          9.3         5.0       0.0\n",
       "3             23  2019-11-01 03:00:00          9.3         2.0       0.0\n",
       "4             23  2019-11-01 04:00:00          9.3         5.0       0.0\n",
       "...          ...                  ...          ...         ...       ...\n",
       "17235      ME106  2019-11-30 19:00:00          4.8        11.3       0.0\n",
       "17236      ME106  2019-11-30 20:00:00          4.7         8.0       0.0\n",
       "17237      ME106  2019-11-30 21:00:00          4.6        12.9       0.0\n",
       "17238      ME106  2019-11-30 22:00:00          4.4        11.3       0.0\n",
       "17239      ME106  2019-11-30 23:00:00          4.3         8.0       0.0\n",
       "\n",
       "[17240 rows x 5 columns]"
      ]
     },
     "metadata": {},
     "output_type": "display_data"
    }
   ],
   "source": [
    "display(df)"
   ]
  },
  {
   "cell_type": "markdown",
   "metadata": {},
   "source": [
    "# Calcul moyennes sur 1 mois"
   ]
  },
  {
   "cell_type": "code",
   "execution_count": 24,
   "metadata": {},
   "outputs": [
    {
     "name": "stdout",
     "output_type": "stream",
     "text": [
      "   station_id  temperature  vent_moyen  pluie_1h\n",
      "0          23     4.643533    1.755216  0.625591\n",
      "1          42     7.342816    4.994253  0.187931\n",
      "2       000BZ     8.777260    3.657062  0.231921\n",
      "3       000C5     7.828969    1.733148  0.182730\n",
      "4       000CJ     2.894101    3.946489  0.225843\n",
      "5       000DF    10.066239   10.323504  0.408832\n",
      "6       000DR     6.914993    4.445686  0.194625\n",
      "7       000EB     7.086950    7.282270  0.189220\n",
      "8       000EU     6.970255    6.358782  0.181586\n",
      "9       000FA     6.191513    5.912447  0.077511\n",
      "10      000FN     7.653475    5.355603  0.404539\n",
      "11      000GQ     7.267771    4.654518  0.110843\n",
      "12      000HL    10.398878    3.447686  0.451052\n",
      "13      000K0     7.533659    4.986034  0.178492\n",
      "14      000L7    10.227848    6.113080  0.179466\n",
      "15      000MJ     7.750927    5.343509  0.233096\n",
      "16      000OM     8.171049    6.923043  0.145643\n",
      "17      000OO     9.079743    2.070756  0.455350\n",
      "18      000Q2     8.134357    4.401170  0.317836\n",
      "19      000T3     4.046950    1.207376  0.222979\n",
      "20      000U7     8.532653    3.407064  0.176138\n",
      "21      ME014     7.458730    0.000000  0.000000\n",
      "22      ME103     3.351835    2.808716  0.288685\n",
      "23      ME104     7.396986    2.716312  0.091844\n",
      "24      ME106     7.817908    5.237249  0.100860\n"
     ]
    }
   ],
   "source": [
    "df['dh_utc'] = pd.to_datetime(df['dh_utc'])\n",
    "\n",
    "# Group by 'station_id' and calculate overall averages\n",
    "averages_df = df.groupby('station_id').agg({'temperature': 'mean', 'vent_moyen': 'mean', 'pluie_1h': 'mean'}).reset_index()\n",
    "\n",
    "# Display the resulting DataFrame with overall averages\n",
    "print(averages_df)\n",
    "\n",
    "  _____ _        __  __          _   _  ____  _    _ ______   _____  ______  _____    _____ _______    _______ _____ ____  _   _  _____   _   _  ____  _   _    __      ________ _____  _____ ______ _____ ______ _____     _____ _____    _____ ______  _____ _______               _____         _    _  _____ ______   _____  ______  _____   _   _          _   _   _____          _   _  _____   _____  _____   ____  _____  _    _  _____ ______ _____  \n",
    " |_   _| |      |  \\/  |   /\\   | \\ | |/ __ \\| |  | |  ____| |  __ \\|  ____|/ ____|  / ____|__   __|/\\|__   __|_   _/ __ \\| \\ | |/ ____| | \\ | |/ __ \\| \\ | |   \\ \\    / /  ____|  __ \\|_   _|  ____|_   _|  ____|  __ \\   / ____|_   _|  / ____|  ____|/ ____|__   __|     /\\      / ____|   /\\  | |  | |/ ____|  ____| |  __ \\|  ____|/ ____| | \\ | |   /\\   | \\ | | |  __ \\   /\\   | \\ | |/ ____| |  __ \\|  __ \\ / __ \\|  __ \\| |  | |/ ____|  ____|  __ \\ \n",
    "   | | | |      | \\  / |  /  \\  |  \\| | |  | | |  | | |__    | |  | | |__  | (___   | (___    | |  /  \\  | |    | || |  | |  \\| | (___   |  \\| | |  | |  \\| |    \\ \\  / /| |__  | |__) | | | | |__    | | | |__  | |__) | | (___   | |   | |    | |__  | (___    | |       /  \\    | |       /  \\ | |  | | (___ | |__    | |  | | |__  | (___   |  \\| |  /  \\  |  \\| | | |  | | /  \\  |  \\| | (___   | |__) | |__) | |  | | |  | | |  | | |    | |__  | |__) |\n",
    "   | | | |      | |\\/| | / /\\ \\ | . ` | |  | | |  | |  __|   | |  | |  __|  \\___ \\   \\___ \\   | | / /\\ \\ | |    | || |  | | . ` |\\___ \\  | . ` | |  | | . ` |     \\ \\/ / |  __| |  _  /  | | |  __|   | | |  __| |  _  /   \\___ \\  | |   | |    |  __|  \\___ \\   | |      / /\\ \\   | |      / /\\ \\| |  | |\\___ \\|  __|   | |  | |  __|  \\___ \\  | . ` | / /\\ \\ | . ` | | |  | |/ /\\ \\ | . ` |\\___ \\  |  ___/|  _  /| |  | | |  | | |  | | |    |  __| |  _  / \n",
    "  _| |_| |____  | |  | |/ ____ \\| |\\  | |__| | |__| | |____  | |__| | |____ ____) |  ____) |  | |/ ____ \\| |   _| || |__| | |\\  |____) | | |\\  | |__| | |\\  |_     \\  /  | |____| | \\ \\ _| |_| |     _| |_| |____| | \\ \\   ____) |_| |_  | |____| |____ ____) |  | |     / ____ \\  | |____ / ____ \\ |__| |____) | |____  | |__| | |____ ____) | | |\\  |/ ____ \\| |\\  | | |__| / ____ \\| |\\  |____) | | |    | | \\ \\| |__| | |__| | |__| | |____| |____| | \\ \\ \n",
    " |_____|______| |_|  |_/_/    \\_\\_| \\_|\\___\\_\\\\____/|______| |_____/|______|_____/  |_____/   |_/_/    \\_\\_|  |_____\\____/|_| \\_|_____/  |_| \\_|\\____/|_| \\_( )     \\/   |______|_|  \\_\\_____|_|    |_____|______|_|  \\_\\ |_____/|_____|  \\_____|______|_____/   |_|    /_/    \\_\\  \\_____/_/    \\_\\____/|_____/|______| |_____/|______|_____/  |_| \\_/_/    \\_\\_| \\_| |_____/_/    \\_\\_| \\_|_____/  |_|    |_|  \\_\\\\____/|_____/ \\____/ \\_____|______|_|  \\_\\\n",
    "                                                                                                                                                            |/                                                                                                                                                                                                                                                                                                \n",
    "                                                                                                                                                                                                                                                                                                                                                                                                                                                              "
   ]
  }
 ],
 "metadata": {
  "kernelspec": {
   "display_name": "aag-talp",
   "language": "python",
   "name": "python3"
  },
  "language_info": {
   "codemirror_mode": {
    "name": "ipython",
    "version": 3
   },
   "file_extension": ".py",
   "mimetype": "text/x-python",
   "name": "python",
   "nbconvert_exporter": "python",
   "pygments_lexer": "ipython3",
   "version": "3.9.18"
  }
 },
 "nbformat": 4,
 "nbformat_minor": 2
}
